{
  "nbformat": 4,
  "nbformat_minor": 0,
  "metadata": {
    "colab": {
      "provenance": [],
      "authorship_tag": "ABX9TyP3PIdrJ8P+yU40nPiYBorX",
      "include_colab_link": true
    },
    "kernelspec": {
      "name": "python3",
      "display_name": "Python 3"
    },
    "language_info": {
      "name": "python"
    }
  },
  "cells": [
    {
      "cell_type": "markdown",
      "metadata": {
        "id": "view-in-github",
        "colab_type": "text"
      },
      "source": [
        "<a href=\"https://colab.research.google.com/github/Anush-Amin/ineuron/blob/main/Assignment_6.ipynb\" target=\"_parent\"><img src=\"https://colab.research.google.com/assets/colab-badge.svg\" alt=\"Open In Colab\"/></a>"
      ]
    },
    {
      "cell_type": "markdown",
      "source": [
        "**Q.1. What are keywords in python? Using the keyword library, print all the python keywords.**"
      ],
      "metadata": {
        "id": "75seph1ZP3yF"
      }
    },
    {
      "cell_type": "markdown",
      "source": [
        "Keywords are reserved words used for different purposes. Keywords cannot be used as identifiers. Keywords are case sensitive."
      ],
      "metadata": {
        "id": "qe7_v7DVQX2X"
      }
    },
    {
      "cell_type": "code",
      "source": [
        "import keyword as k\n",
        "\n",
        "kw = k.kwlist\n",
        "\n",
        "print(kw)"
      ],
      "metadata": {
        "colab": {
          "base_uri": "https://localhost:8080/"
        },
        "id": "lzqkJ9qmQLPJ",
        "outputId": "7c979a13-3284-45dd-e286-a7891abf60b1"
      },
      "execution_count": null,
      "outputs": [
        {
          "output_type": "stream",
          "name": "stdout",
          "text": [
            "['False', 'None', 'True', 'and', 'as', 'assert', 'async', 'await', 'break', 'class', 'continue', 'def', 'del', 'elif', 'else', 'except', 'finally', 'for', 'from', 'global', 'if', 'import', 'in', 'is', 'lambda', 'nonlocal', 'not', 'or', 'pass', 'raise', 'return', 'try', 'while', 'with', 'yield']\n"
          ]
        }
      ]
    },
    {
      "cell_type": "markdown",
      "source": [
        "**Q.2. What are the rules to create variables in python?**"
      ],
      "metadata": {
        "id": "SUW3WmuxQbLB"
      }
    },
    {
      "cell_type": "markdown",
      "source": [
        "\n",
        "\n",
        "1.   The variable can contain letters, numbers or underscore(_)\n",
        "2.   The variable should strictly start with letter or underscore(_)\n",
        "3.   Keywords cannot be used as a variable name\n",
        "4.   Special character apart from that of underscore cannot be used in variable name\n",
        "\n",
        "Valid variable name:\n",
        "\n",
        "\n",
        "*   num1\n",
        "*   variable_name\n",
        "*   _variable\n",
        "\n",
        "Invalid variable name:\n",
        "\n",
        "\n",
        "*   1variable\n",
        "*   False\n",
        "*   *variable\n",
        "\n",
        "\n",
        "\n",
        "\n",
        "\n",
        "\n",
        "\n"
      ],
      "metadata": {
        "id": "zU9_A2_CQyVm"
      }
    },
    {
      "cell_type": "markdown",
      "source": [
        "**Q.3. What are the standards and conventions followed for the nomenclature of variables in\n",
        "python to improve code readability and maintainability?**"
      ],
      "metadata": {
        "id": "QjUX3XhJQzXu"
      }
    },
    {
      "cell_type": "markdown",
      "source": [
        "\n",
        "\n",
        "1.   The variable name should be such that it gives a sense of what is stored in it.\n",
        "2.   If two words has to be present in variable name then separate them with underscore (snake case)\n",
        "3. Keywords should not be used for variable names\n",
        "4. Prevent using just a character for variable name, instead use a descriptive name\n",
        "\n"
      ],
      "metadata": {
        "id": "W2JKcfXgQ5f-"
      }
    },
    {
      "cell_type": "markdown",
      "source": [
        "**Q.4. What will happen if a keyword is used as a variable name?**"
      ],
      "metadata": {
        "id": "14-q5kaNQ5DD"
      }
    },
    {
      "cell_type": "code",
      "source": [
        "False = 10"
      ],
      "metadata": {
        "colab": {
          "base_uri": "https://localhost:8080/",
          "height": 130
        },
        "id": "yt_r1T6Jclx2",
        "outputId": "c21a6e8a-a68a-4068-b724-9254d2ec0d96"
      },
      "execution_count": null,
      "outputs": [
        {
          "output_type": "error",
          "ename": "SyntaxError",
          "evalue": "ignored",
          "traceback": [
            "\u001b[0;36m  File \u001b[0;32m\"<ipython-input-10-892860a61661>\"\u001b[0;36m, line \u001b[0;32m1\u001b[0m\n\u001b[0;31m    False = 10\u001b[0m\n\u001b[0m    ^\u001b[0m\n\u001b[0;31mSyntaxError\u001b[0m\u001b[0;31m:\u001b[0m cannot assign to False\n"
          ]
        }
      ]
    },
    {
      "cell_type": "markdown",
      "source": [
        "If keyword is used as variable name it will throw a Synatx Error"
      ],
      "metadata": {
        "id": "sp4J0qoYcv2b"
      }
    },
    {
      "cell_type": "markdown",
      "source": [
        "**Q.5. For what purpose def keyword is used?**"
      ],
      "metadata": {
        "id": "Bzq54oC_RBv6"
      }
    },
    {
      "cell_type": "markdown",
      "source": [
        "The def keyword is used to define the function. The def keyword followed by function_name is used and content inside (block of code) will be indented."
      ],
      "metadata": {
        "id": "z73r4ap5RIRe"
      }
    },
    {
      "cell_type": "code",
      "source": [
        "def my_function():\n",
        "  print(\"This is my function\")\n",
        "\n",
        "my_function()"
      ],
      "metadata": {
        "colab": {
          "base_uri": "https://localhost:8080/"
        },
        "id": "bL4IulwgdSre",
        "outputId": "a18ddd57-22a0-49b9-d7ba-04bbaee420fa"
      },
      "execution_count": null,
      "outputs": [
        {
          "output_type": "stream",
          "name": "stdout",
          "text": [
            "This is my function\n"
          ]
        }
      ]
    },
    {
      "cell_type": "markdown",
      "source": [
        "**Q.6. What is the operation of this special character ‘\\’?**"
      ],
      "metadata": {
        "id": "RH5IzjZXRHP1"
      }
    },
    {
      "cell_type": "markdown",
      "source": [
        "\n",
        "1.   Special character ‘\\’ is used to continue the code into next line"
      ],
      "metadata": {
        "id": "qp5E0QGcRPok"
      }
    },
    {
      "cell_type": "code",
      "source": [
        "example = \"This \"+\\\n",
        "          \"is \"+\"a \"+\\\n",
        "          \"good \"+\\\n",
        "          \"day\"\n",
        "print(example)"
      ],
      "metadata": {
        "colab": {
          "base_uri": "https://localhost:8080/"
        },
        "id": "G9WhksWlf5l1",
        "outputId": "f3e53192-21c2-4c36-8123-37f9b4e8152f"
      },
      "execution_count": null,
      "outputs": [
        {
          "output_type": "stream",
          "name": "stdout",
          "text": [
            "This is a good day\n"
          ]
        }
      ]
    },
    {
      "cell_type": "markdown",
      "source": [
        "2.  Special character ‘\\’ is used as a escape characters in a string. If we want to include single quote or double quote in a string we can use \\. Also we can include \\ in a string.\n"
      ],
      "metadata": {
        "id": "c3R3NtBpf06R"
      }
    },
    {
      "cell_type": "code",
      "source": [
        "v1 = \"In this string \\\"double quotes\\\" is used\"\n",
        "print(v1)"
      ],
      "metadata": {
        "colab": {
          "base_uri": "https://localhost:8080/"
        },
        "id": "I6z7Lk6bhmHP",
        "outputId": "a9f026fb-80a0-490c-e3c7-d9f195bc723a"
      },
      "execution_count": null,
      "outputs": [
        {
          "output_type": "stream",
          "name": "stdout",
          "text": [
            "In this string \"double quotes\" is used\n"
          ]
        }
      ]
    },
    {
      "cell_type": "markdown",
      "source": [
        "3. Special character ‘\\’ is used with characters n, t etc to create special functionality like newline, tab etc"
      ],
      "metadata": {
        "id": "mgwxlveRiIMG"
      }
    },
    {
      "cell_type": "code",
      "source": [
        "new_line = \"This is line 1\\nThis is line 2\"\n",
        "print(new_line)\n",
        "tab = \"Before tab\\tAfter tab\"\n",
        "print(tab)"
      ],
      "metadata": {
        "colab": {
          "base_uri": "https://localhost:8080/"
        },
        "id": "04UAu5vDibNW",
        "outputId": "3e0c0c32-bb83-4ea0-c2db-f4353418ec61"
      },
      "execution_count": null,
      "outputs": [
        {
          "output_type": "stream",
          "name": "stdout",
          "text": [
            "This is line 1\n",
            "This is line 2\n",
            "Before tab\tAfter tab\n"
          ]
        }
      ]
    },
    {
      "cell_type": "markdown",
      "source": [
        "**Q.7. Give an example of the following conditions:\n",
        "(i) Homogeneous list\n",
        "(ii) Heterogeneous set\n",
        "(iii) Homogeneous tuple**"
      ],
      "metadata": {
        "id": "LyZqjgfbRRHk"
      }
    },
    {
      "cell_type": "markdown",
      "source": [
        "Homogeneous contains elements of same datatypes.\n",
        "Heterogeneous contains elements of different dataypes."
      ],
      "metadata": {
        "id": "ZPH7YLe9kaYT"
      }
    },
    {
      "cell_type": "code",
      "source": [
        "# Homogeneous list\n",
        "homo_list = [1, 2, 3, 4]\n",
        "print(homo_list)\n",
        "\n",
        "# Heterogeneous list\n",
        "het_list = [1, 'a', True, [2, 3]]\n",
        "print(het_list)\n",
        "\n",
        "# Homogeneous tuple\n",
        "homo_list = ['a', 'b', 'cd']\n",
        "print(homo_list)"
      ],
      "metadata": {
        "colab": {
          "base_uri": "https://localhost:8080/"
        },
        "id": "aoUQZPwEjklI",
        "outputId": "b6b4981f-dc2b-4696-c01d-45cb0eb4be85"
      },
      "execution_count": null,
      "outputs": [
        {
          "output_type": "stream",
          "name": "stdout",
          "text": [
            "[1, 2, 3, 4]\n",
            "[1, 'a', True, [2, 3]]\n",
            "['a', 'b', 'cd']\n"
          ]
        }
      ]
    },
    {
      "cell_type": "markdown",
      "source": [
        "**Q.8. Explain the mutable and immutable data types with proper explanation & examples.**"
      ],
      "metadata": {
        "id": "YKsmHS-bRb1P"
      }
    },
    {
      "cell_type": "markdown",
      "source": [
        "In mutable datatypes values can be changed once its created. Mutable datatypes are list, set, dictionary. There are different functions available in these datatypes to remove or add the values."
      ],
      "metadata": {
        "id": "olCXQ1X8Rgk3"
      }
    },
    {
      "cell_type": "code",
      "source": [
        "l = [1, 2, 3, 4]\n",
        "# add 5 into the above list\n",
        "l.append(5)\n",
        "print(l)\n",
        "\n",
        "# add 6 and 7 into the list\n",
        "l.extend([6, 7])\n",
        "print(l)\n",
        "\n",
        "# remove 3 from the list\n",
        "l.remove(3)\n",
        "print(l)"
      ],
      "metadata": {
        "colab": {
          "base_uri": "https://localhost:8080/"
        },
        "id": "Kfy-wekPo4dz",
        "outputId": "7870e676-96da-4e61-bbb4-9d89941a24eb"
      },
      "execution_count": null,
      "outputs": [
        {
          "output_type": "stream",
          "name": "stdout",
          "text": [
            "[1, 2, 3, 4, 5]\n",
            "[1, 2, 3, 4, 5, 6, 7]\n",
            "[1, 2, 4, 5, 6, 7]\n"
          ]
        }
      ]
    },
    {
      "cell_type": "markdown",
      "source": [
        "In immutable datatypes values cannot be changed once it created. Some of the Immutable datatypes are string, tuple."
      ],
      "metadata": {
        "id": "SxReCxmGqSSi"
      }
    },
    {
      "cell_type": "code",
      "source": [
        "t = (1, 2, 3, 4)\n",
        "\n",
        "# In the above tuple values cannot be changed once it created\n",
        "# but values can be added by declaring new variable\n",
        "t_new = t + (5, 6)\n",
        "print(t_new)"
      ],
      "metadata": {
        "colab": {
          "base_uri": "https://localhost:8080/"
        },
        "id": "uuuH5sN9qpOZ",
        "outputId": "ed08a77b-c909-4c34-b195-89b693cd5973"
      },
      "execution_count": null,
      "outputs": [
        {
          "output_type": "stream",
          "name": "stdout",
          "text": [
            "(1, 2, 3, 4, 5, 6)\n"
          ]
        }
      ]
    },
    {
      "cell_type": "markdown",
      "source": [
        "**Q.9. Write a code to create the given structure using only for loop.**\n",
        "\n",
        "![image.png](data:image/png;base64,iVBORw0KGgoAAAANSUhEUgAAAHkAAAB0CAYAAAChZJ2XAAAAAXNSR0IArs4c6QAAAARnQU1BAACxjwv8YQUAAAAJcEhZcwAAEnQAABJ0Ad5mH3gAAASWSURBVHhe7ZrBSyNnGIff7oIaPaR60PU/UPAScgrk3MP+BcVDTkqPQSR0PaQHwZOxp1KtoIHirWfpoSBGKMiCaMqiIix7ch3dbKN0W42Z5G2SThFZ+Q4Dk8w3v99zMeYd5vvw4YsyPl9oCyGR5pn3lUQYSgaAkgGgZAAoGYCISa6Jc3oox+//8b4nbaIluXEuW7NpyWy8E9d7i0RFsnsiqzPTkls7kttYn8SbZ7K5kJHMymu59y5BJiKS76R/SKVcnJPCzo3sFrKyflCXeMwVfnCLROiJ17XsffdSvv7lTr78U+Sr4q/y/csx/mXZIjI/A/ePH+XVD3/J9E+/SfGbZ/LztyvyO49xhwid5KZcX1ZkYGxUBu4/iPNpRF6MPPdm2PAfFADwVxYAlAwAJQNAyQBQMgCUDAAlA0DJAFAyAJQMACUDQMkAUDIAlAwAJQNAyQDYK7nmyOnhsTydWJv6a7w221rJjfMtmU1nZOPdE4W1qb8GbLOtk+yerMrMdE7Wjm4l1heX5tmmLGQysvL63txfA7fZ9km+65chLUtxriA7N7tSyK7LQT0uMbf18Wvqr5Hb7HbIZx3VkuZT4zqRmNTRRFa3nYY3aFPVUj6l4xMJnRxNaHbb0YepaRZdLJRc1/JSSoen5rVU2dd8clincnv69//T8pKmhqd0vlTR/XyydV1O97yhaRZl7Exym9dyWRmQsdEBuf/gyKeRF/KQWJv6a8w2m901AHwYAgAlA0DJAFAyAJQMACUDQMkAUDIAlAwAJQNAyQBQMgCUDAAlA0DJAFAyAHZIDqSxNvfXNedUDo/fRyLys0JyII21sb9uyPnWrKQzG/LUkrYRasmBNNbG/tqVk9UZmc6tydFtTPriTTnbXJBMZkXaS9pKuCUH0Vgb+2tX7vqHRMtFmSvsyM1uQbLrB1KPx6S9pLW0Q75QE0hjbe6vq6W8psYnNDE5qonstj5a0kJCLjmYxtrYX9fLupRqrTNf0sp+XpOt63KWx9nhP8mNqjqXt52XtasL/eh2Xno0tOpcamdau9KLR0O/s/aSjv63ZE2vLj7q46l9sLsGgA9DAKBkACgZAEoGgJIBoGQAKBkASgaAkgGgZAAoGQBKBoCSAaBkACgZAEoGgJIBCJ9kU0gfssjemgC/EwGFCPftsqYHk7r4pu6984Bp1hrqcnpQk4tv9LOp35m6+nY5rYPJRf18SdMsXITmJJtC+nBF9vYF+OGRbAjpwxXZWxjgeyc6HJhC+pBF9jYF+CGSbArpQxbZWxbgh+skm0L6kEX2NgX4jOsB4MMQACgZAEoGgJIBoGQAKBkASgaAkgGgZAAoGQBKBoCSAaBkACgZAEoGgJIB6K1kv411IP11+7b+Gmtjf23ca5fo9CE9wm9jHUh/7buxNvfXxr12iZ6cZL+NdSD9te/G2txfG/faZXoj2WdjHUh/7buxNvfXxr12G+9Edx+/jXUg/XX7tv4aa2N/bdxr9+iRZL+NdTD9te/G2thfm/faTXp3kv021oH01+3b+musjf21ca/dg901AHwYAgAlA0DJAFAyAJQceUT+BY4BXMA0ZMu7AAAAAElFTkSuQmCC)"
      ],
      "metadata": {
        "id": "TL0cQgdcRhOS"
      }
    },
    {
      "cell_type": "code",
      "source": [
        "n = 5\n",
        "for row in range(0, n):\n",
        "  print(\" \" * (n-row-1), end=\"\")\n",
        "  print(\"*\" * (row*2+1))\n"
      ],
      "metadata": {
        "colab": {
          "base_uri": "https://localhost:8080/"
        },
        "id": "9I4CC3OSSPMa",
        "outputId": "31a98953-f720-4f82-fe11-ae85ec167ecf"
      },
      "execution_count": null,
      "outputs": [
        {
          "output_type": "stream",
          "name": "stdout",
          "text": [
            "    *\n",
            "   ***\n",
            "  *****\n",
            " *******\n",
            "*********\n"
          ]
        }
      ]
    },
    {
      "cell_type": "markdown",
      "source": [
        "**Explanation:**\n",
        "\n",
        "n=5\n",
        "\n",
        "**To print \"*\":**\n",
        "\n",
        "My range in for loop will be range(0, n) hence first row is 0.\t\n",
        "row=0, count=1 i.e., (0 * 2 + 1)\n",
        "\n",
        "row=1, count=3 i.e., (1 * 2 + 1)\n",
        "\n",
        "row=2, count=5 i.e., (2 * 2 + 1)\n",
        "\n",
        "row=3, count=7 i.e., (3 * 2 + 1)\n",
        "\n",
        "row=4, count=9 i.e., (4 * 2 + 1)\n",
        "\n",
        "Hence formula for printing \" * \" will be: \" * \" * (row * 2 + 1)\n",
        "\n",
        "**To print spaces**\n",
        "\n",
        "row=0 there are 4 spaces before*: (5 - 0 - 1)\n",
        "\n",
        "row=1 there are 3 spaces before*: (5 - 1 - 1)\n",
        "\n",
        "row=2 there are 2 spaces before*: (5 - 2 - 1)\n",
        "\n",
        "row=3 there are 1 spaces before*: (5 - 3 - 1)\n",
        "\n",
        "row=4 there are 0 spaces before*: (5 - 4 - 1)\n",
        "\n",
        "Hence formula for printing \" \" will be: \" \" * (n - row -1)"
      ],
      "metadata": {
        "id": "CBfP4Ykw8cVk"
      }
    },
    {
      "cell_type": "markdown",
      "source": [
        "**Q.10. Write a code to create the given structure using while loop.**\n",
        "\n",
        "![image.png](data:image/png;base64,iVBORw0KGgoAAAANSUhEUgAAAEsAAAB6CAYAAAD3aK7iAAAAAXNSR0IArs4c6QAAAARnQU1BAACxjwv8YQUAAAAJcEhZcwAAEnQAABJ0Ad5mH3gAAAHlSURBVHhe7duxbYNAGEDhSwoqBoqEMgUrZIYMwRgpPEO2gJLCoknlypWlKEp8CYgoDcU9ApjifY3lv7ji6c7NL9/FH0FJ7sdPJTAWYCxgoVjXcO6aULen8XtvYnY9h66pQ3v6GAf9qAtN3Ya/0ZJnTc9m63/g/+8SD2Ues6Iav/cmZpdDLPMsFtVxHPSjMuZZEavj5+9kwbOmZ3P5DAFjAcYCjAUYCzAWYCzAWICxAGMBxgKMBRgLMBZgLMBYgNsdwJsFGAswFmAswFjAqrGSdoKz939pZy1qWIitJGknOHv/l3bWknyGgLEAYwHGAowFGAswFmAswFiAsQBjAcYCjAUYCzAWYCzAvSHgzQKMBRgLMBZgLGDzWLP3f4n7xVUNC7ENzd7/Je4X1+QzBIwFGAswFmAswFiAsQBjAcYCjAUYCzAWYCzAWICxAGMB7g0BbxZgLMBYgLEAYwG7iJW0S5ycbWxYiN1Y0i5xcrYtnyFgLMBYgLEAYwHGAowFGAswFmAswFiAsQBjAcYCjAUYC3BvCHizAGMBxgKMBRgL2G2szf9LmGC3sd5fn8Pjw1N4efsaJ7fnMwSMBRgLMBZgLMBYgLEAYwHGAowFGAswFmAswFiAsQBjAe4NAW8WYCzAWMlC+AYjLgy2h3e6agAAAABJRU5ErkJggg==)"
      ],
      "metadata": {
        "id": "PBU3aQwDSQZ3"
      }
    },
    {
      "cell_type": "code",
      "source": [
        "r = 5\n",
        "for row in range(r):\n",
        "  print(\" \"*row,end=\"\")\n",
        "  print(\"|\"*((r*2)-(2*row+1)))\n",
        "  "
      ],
      "metadata": {
        "colab": {
          "base_uri": "https://localhost:8080/"
        },
        "id": "0aFu55-RScIa",
        "outputId": "09723cb9-04b3-4c83-b00c-53d9722030d3"
      },
      "execution_count": null,
      "outputs": [
        {
          "output_type": "stream",
          "name": "stdout",
          "text": [
            "|||||||||\n",
            " |||||||\n",
            "  |||||\n",
            "   |||\n",
            "    |\n"
          ]
        }
      ]
    },
    {
      "cell_type": "markdown",
      "source": [
        "**Explanation:**\n",
        "\n",
        "r=5\n",
        "\n",
        "**To print \"|\":**\n",
        "\n",
        "My range in for loop will be range(0, r) hence first row is 0.\t\n",
        "row=0, count=9 i.e., (5 * 2)-(2 * 0 + 1)\n",
        "\n",
        "row=1, count=7 i.e., (5 * 2)-(2 * 1 + 1)\n",
        "\n",
        "row=2, count=5 i.e., (5 * 2)-(2 * 2 + 1)\n",
        "\n",
        "row=3, count=3 i.e., (5 * 2)-(2 * 3 + 1)\n",
        "\n",
        "row=4, count=1 i.e., (5 * 2)-(2 * 4 + 1)\n",
        "\n",
        "Hence formula for printing \"|\" will be: \"|\" * (r * 2)-(2 * row + 1)\n",
        "\n",
        "This will give below output\n",
        "\n",
        "|||||||||\t\n",
        "|||||||\t   \t\n",
        "|||||\t\t\t\n",
        "|||\t\t\t\n",
        "|\t\n",
        "\n",
        "**To print spaces**\n",
        "\n",
        "row=0 there are 0 spaces before*\n",
        "\n",
        "row=1 there are 1 spaces before*\n",
        "\n",
        "row=2 there are 2 spaces before*\n",
        "\n",
        "row=3 there are 3 spaces before*\n",
        "\n",
        "row=4 there are 4 spaces before*\n",
        "\n",
        "Hence formula for printing \" \" will be: \" \" * row"
      ],
      "metadata": {
        "id": "RI56b7J72ZlL"
      }
    },
    {
      "cell_type": "code",
      "source": [],
      "metadata": {
        "id": "ViQTbuELVeTD"
      },
      "execution_count": null,
      "outputs": []
    }
  ]
}