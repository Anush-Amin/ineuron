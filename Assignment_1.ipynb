{
  "nbformat": 4,
  "nbformat_minor": 0,
  "metadata": {
    "colab": {
      "provenance": [],
      "authorship_tag": "ABX9TyMvaQYdw8niBQkLyi5M9fqs",
      "include_colab_link": true
    },
    "kernelspec": {
      "name": "python3",
      "display_name": "Python 3"
    },
    "language_info": {
      "name": "python"
    }
  },
  "cells": [
    {
      "cell_type": "markdown",
      "metadata": {
        "id": "view-in-github",
        "colab_type": "text"
      },
      "source": [
        "<a href=\"https://colab.research.google.com/github/Anush-Amin/ineuron/blob/main/Assignment_1.ipynb\" target=\"_parent\"><img src=\"https://colab.research.google.com/assets/colab-badge.svg\" alt=\"Open In Colab\"/></a>"
      ]
    },
    {
      "cell_type": "markdown",
      "source": [
        "1. **In the below elements which of them are values or an expression? eg:- values can be integer or string and expressions will be mathematical operators.**\n",
        "\n",
        "*\n",
        "\n",
        "**'hello'**\n",
        "\n",
        "**-87.8**\n",
        "\n",
        "**-**\n",
        "\n",
        "**/**\n",
        "\n",
        "**+**\n",
        "\n",
        "**6**"
      ],
      "metadata": {
        "id": "NtjsLF0P6zEy"
      }
    },
    {
      "cell_type": "markdown",
      "source": [
        "values: 'hello', -87.8, 6\n",
        "\n",
        "expressions: *, -, /, +"
      ],
      "metadata": {
        "id": "q61xSh137Tm0"
      }
    },
    {
      "cell_type": "markdown",
      "source": [
        "**2. What is the difference between string and variable?**"
      ],
      "metadata": {
        "id": "BGrxtRzf7t3c"
      }
    },
    {
      "cell_type": "markdown",
      "source": [
        "String is a datatype used for textual values and it should be given inside single or double quotes.\n",
        "\n",
        "Ex: “Hello World”, “1234”\n",
        "\n",
        "The above example is of datatype string. We can check the datatype using type() function\n",
        "\n",
        "Variable is used to store the values of different datatypes\n",
        "\n",
        "Ex: var1 = “Hello World”\n",
        "\n",
        "Here var1 is a variable which stores string value"
      ],
      "metadata": {
        "id": "MPNN1kEX71Gz"
      }
    },
    {
      "cell_type": "markdown",
      "source": [
        "**3. Describe three different data types.**"
      ],
      "metadata": {
        "id": "lRe6m5j58CyP"
      }
    },
    {
      "cell_type": "markdown",
      "source": [
        "The three different datatypes are:\n",
        "*   int: int is a numeric datatype used for integer values. Integer values are positive and negative whole number. Since python is a dynamically typed language there is no need to define the datatype while declaring the variable. But for typecasting int() is used.\n",
        "\n",
        "Ex: a = 3, b = -5, c = int(“100”)\n",
        "*   float: float is a numeric datatype used for floating point values. Floating point values are positive and negative decimal values.\n",
        "\n",
        "Ex: a = 5.62, b = -8.9574, c = float(“9.6547”)\n",
        "* str:  String is a data type which contains sequence of characters enclosed between single or double quotes.\n",
        "\n",
        "Ex: str_1 = “This is a string”, str_2 = “1234”\n"
      ],
      "metadata": {
        "id": "rONJP1df8Fqz"
      }
    },
    {
      "cell_type": "markdown",
      "source": [
        "**4. What is an expression made up of? What do all expressions do?**"
      ],
      "metadata": {
        "id": "Q9Ucow7m8XwD"
      }
    },
    {
      "cell_type": "markdown",
      "source": [
        "Expression is made up of operators and operands. Operators are special symbols which helps to perform operation of operands. The expressions perform mathematical, logical, concatenation, comparison operations.\n",
        "\n",
        "Ex: exp1 = 2 + 3\n",
        "\n",
        "In the above expression 2 and 3 are operands and + is operator. This expression is used to perform mathematical operation (addition)\n",
        "\n",
        "exp2 = “Data” + “Science”\n",
        "\n",
        "In the above expression “Data” and “Science” are operands and + is operator. This expression is used to perform concatenation operation. The result will be “DataScience”.\n",
        "\n",
        "The values can also be defined in a variable and can be used in expression.\n",
        "\n",
        "Ex: a = 5\n",
        "\n",
        "b = 10\n",
        "\n",
        "c = a + b\n",
        "\n",
        "This will give 15 as output if c is printed, because datatypes of 'a' and 'b' are int and it will perform mathematical operation  "
      ],
      "metadata": {
        "id": "kt3KF5yc8dZv"
      }
    },
    {
      "cell_type": "markdown",
      "source": [
        "**5. This assignment statements, like spam = 10. What is the difference between an expression and a statement?**"
      ],
      "metadata": {
        "id": "gEe2Hiak8uC9"
      }
    },
    {
      "cell_type": "markdown",
      "source": [
        "Expression is used to perform operations, but statement is used for assignment.  "
      ],
      "metadata": {
        "id": "aIa5yj8N80l_"
      }
    },
    {
      "cell_type": "markdown",
      "source": [
        "**6. After running the following code, what does the variable bacon contain?**\n",
        "\n",
        "**bacon = 22**\n",
        "\n",
        "**bacon + 1**"
      ],
      "metadata": {
        "id": "go6HpsJQ85_q"
      }
    },
    {
      "cell_type": "code",
      "source": [
        "bacon = 22\n",
        "bacon + 1\n",
        "print(bacon)"
      ],
      "metadata": {
        "colab": {
          "base_uri": "https://localhost:8080/"
        },
        "id": "9_f9HxD59FaP",
        "outputId": "f6aeb2dd-4f56-41ed-fd44-fdf3d6ca99ba"
      },
      "execution_count": 1,
      "outputs": [
        {
          "output_type": "stream",
          "name": "stdout",
          "text": [
            "22\n"
          ]
        }
      ]
    },
    {
      "cell_type": "markdown",
      "source": [
        "after running the following code, bacon contains 22 as value.\n",
        "\n",
        "The value of bacon is increased by 1 in the 2nd line of code. But it's not assigned to variable hence value doesn't change for bacon. To increase the value of bacon by 1 use below expression:\n",
        "\n",
        "bacon = bacon + 1"
      ],
      "metadata": {
        "id": "fpAmxIYG9DJ0"
      }
    },
    {
      "cell_type": "markdown",
      "source": [
        "**7. What should the values of the following two terms be?**\n",
        "\n",
        "**'spam' + 'spamspam'**\n",
        "\n",
        "**'spam' * 3**"
      ],
      "metadata": {
        "id": "w_uoq2Zl9d2S"
      }
    },
    {
      "cell_type": "code",
      "source": [
        "'spam' + 'spamspam'"
      ],
      "metadata": {
        "colab": {
          "base_uri": "https://localhost:8080/",
          "height": 36
        },
        "id": "KFuyAkhH9W1U",
        "outputId": "d485e56b-fa3d-4671-cc0e-3821040eea72"
      },
      "execution_count": 2,
      "outputs": [
        {
          "output_type": "execute_result",
          "data": {
            "text/plain": [
              "'spamspamspam'"
            ],
            "application/vnd.google.colaboratory.intrinsic+json": {
              "type": "string"
            }
          },
          "metadata": {},
          "execution_count": 2
        }
      ]
    },
    {
      "cell_type": "code",
      "source": [
        "'spam' * 3"
      ],
      "metadata": {
        "colab": {
          "base_uri": "https://localhost:8080/",
          "height": 36
        },
        "id": "Mfef3dxLB3YA",
        "outputId": "7fe7d73a-371d-4482-e324-acb25f3e19f5"
      },
      "execution_count": 3,
      "outputs": [
        {
          "output_type": "execute_result",
          "data": {
            "text/plain": [
              "'spamspamspam'"
            ],
            "application/vnd.google.colaboratory.intrinsic+json": {
              "type": "string"
            }
          },
          "metadata": {},
          "execution_count": 3
        }
      ]
    },
    {
      "cell_type": "markdown",
      "source": [
        "'spam' + 'spamspam' gives ‘spamspamspam’ since it performs concatenation operation\n",
        "\n",
        "'spam' * 3 gives ‘spamspamspam’ since it performs string repetition operation"
      ],
      "metadata": {
        "id": "t8HXqqqNB8TC"
      }
    },
    {
      "cell_type": "markdown",
      "source": [
        "**8. Why is eggs a valid variable name while 100 is invalid?**"
      ],
      "metadata": {
        "id": "7c9lRdmJCBPj"
      }
    },
    {
      "cell_type": "markdown",
      "source": [
        "There are set of rules defined for variable name. They are:\n",
        "\n",
        "* The variable name should contain only letters, numbers or under-score\n",
        "\n",
        "* The variable name should strictly start with either with a letter or under-score\n",
        "\n",
        "* Reserved keyword cannot be used as a variable\n",
        "\n",
        "eggs is a valid variable since it holds good with the above set of rules. Since 100 starts with a number it's not a valid variable"
      ],
      "metadata": {
        "id": "J770Pm6RCKjo"
      }
    },
    {
      "cell_type": "markdown",
      "source": [
        "**9. What three functions can be used to get the integer, floating-point number, or string version of a value?**"
      ],
      "metadata": {
        "id": "ghRXODO8CWsO"
      }
    },
    {
      "cell_type": "markdown",
      "source": [
        "Three functions used to get the integer, floating-point number, and string version of a value are int(), float() and str() respectively."
      ],
      "metadata": {
        "id": "Zthl_F3zCd2i"
      }
    },
    {
      "cell_type": "markdown",
      "source": [
        "**10. Why does this expression cause an error? How can you fix it?**\n",
        "\n",
        "**'I have eaten ' + 99 + ' burritos.'**"
      ],
      "metadata": {
        "id": "U8v_IK_GCi9A"
      }
    },
    {
      "cell_type": "code",
      "source": [
        "'I have eaten ' + 99 + ' burritos.'"
      ],
      "metadata": {
        "colab": {
          "base_uri": "https://localhost:8080/",
          "height": 165
        },
        "id": "7aRdngjmCHhh",
        "outputId": "24c24de5-22de-4d11-b1db-fa1ac5e58cf4"
      },
      "execution_count": 6,
      "outputs": [
        {
          "output_type": "error",
          "ename": "TypeError",
          "evalue": "ignored",
          "traceback": [
            "\u001b[0;31m---------------------------------------------------------------------------\u001b[0m",
            "\u001b[0;31mTypeError\u001b[0m                                 Traceback (most recent call last)",
            "\u001b[0;32m<ipython-input-6-d24137131a5c>\u001b[0m in \u001b[0;36m<cell line: 1>\u001b[0;34m()\u001b[0m\n\u001b[0;32m----> 1\u001b[0;31m \u001b[0;34m'I have eaten '\u001b[0m \u001b[0;34m+\u001b[0m \u001b[0;36m99\u001b[0m \u001b[0;34m+\u001b[0m \u001b[0;34m' burritos.'\u001b[0m\u001b[0;34m\u001b[0m\u001b[0;34m\u001b[0m\u001b[0m\n\u001b[0m",
            "\u001b[0;31mTypeError\u001b[0m: can only concatenate str (not \"int\") to str"
          ]
        }
      ]
    },
    {
      "cell_type": "markdown",
      "source": [
        "The above expression is trying to perform concatenation operation but throws a runtime error because integer cannot be used to perform concatenation.\n",
        "\n",
        "To fix the error, we need to convert 99 to string by typecasting which can be done as follows:\n",
        "\n",
        "'I have eaten ' + '99' + ' burritos.'"
      ],
      "metadata": {
        "id": "o4gWKLcJCzLv"
      }
    },
    {
      "cell_type": "code",
      "source": [
        "'I have eaten ' + '99' + ' burritos.'"
      ],
      "metadata": {
        "colab": {
          "base_uri": "https://localhost:8080/",
          "height": 36
        },
        "id": "vEAyhxtECz0a",
        "outputId": "bc40d083-a1b0-4bdb-8467-c09243eec134"
      },
      "execution_count": 7,
      "outputs": [
        {
          "output_type": "execute_result",
          "data": {
            "text/plain": [
              "'I have eaten 99 burritos.'"
            ],
            "application/vnd.google.colaboratory.intrinsic+json": {
              "type": "string"
            }
          },
          "metadata": {},
          "execution_count": 7
        }
      ]
    },
    {
      "cell_type": "code",
      "source": [],
      "metadata": {
        "id": "j1H7Z8spC1yr"
      },
      "execution_count": null,
      "outputs": []
    }
  ]
}