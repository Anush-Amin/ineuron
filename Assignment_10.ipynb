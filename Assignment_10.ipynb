{
  "nbformat": 4,
  "nbformat_minor": 0,
  "metadata": {
    "colab": {
      "provenance": [],
      "authorship_tag": "ABX9TyOq34XfH3fxDpu9PLXbxCI3",
      "include_colab_link": true
    },
    "kernelspec": {
      "name": "python3",
      "display_name": "Python 3"
    },
    "language_info": {
      "name": "python"
    }
  },
  "cells": [
    {
      "cell_type": "markdown",
      "metadata": {
        "id": "view-in-github",
        "colab_type": "text"
      },
      "source": [
        "<a href=\"https://colab.research.google.com/github/Anush-Amin/ineuron/blob/main/Assignment_10.ipynb\" target=\"_parent\"><img src=\"https://colab.research.google.com/assets/colab-badge.svg\" alt=\"Open In Colab\"/></a>"
      ]
    },
    {
      "cell_type": "markdown",
      "source": [
        "**1. What is the role of try and exception block?**"
      ],
      "metadata": {
        "id": "20kC4KCd59qv"
      }
    },
    {
      "cell_type": "markdown",
      "source": [
        "The try exception block is used for exception handling.\n",
        "\n",
        "The code which can potentially produce error is written in the try block.\n",
        "\n",
        "If the code in try block has error then except block catches that error. We can specify exception type in the except block like ValueError, TypeError etc. We can have multiple except block to handle differnt types of exceptions. If exception type is not specified then except block will catch all types of exceptions.\n",
        "\n",
        "After executing the 'except' block, the program continues with the code that follows the except block."
      ],
      "metadata": {
        "id": "yzmbvYua9WCa"
      }
    },
    {
      "cell_type": "code",
      "execution_count": null,
      "metadata": {
        "colab": {
          "base_uri": "https://localhost:8080/"
        },
        "id": "Fxn6_LWStYew",
        "outputId": "8c0789ac-07bb-47bc-d6c4-8e24deeae507"
      },
      "outputs": [
        {
          "output_type": "stream",
          "name": "stdout",
          "text": [
            "print statement in except block\n",
            "Print statement outside try-except block\n"
          ]
        }
      ],
      "source": [
        "try:\n",
        "  b = \"20\"/2\n",
        "  a = 10/0\n",
        "except:\n",
        "  print(\"print statement in except block\")\n",
        "print(\"Print statement outside try-except block\")"
      ]
    },
    {
      "cell_type": "markdown",
      "source": [
        "The above code doesnot have any exception type specified in except block. Hence it will catch all possible error and execute the code outside try-except block."
      ],
      "metadata": {
        "id": "QnXXmL3EAZt2"
      }
    },
    {
      "cell_type": "markdown",
      "source": [
        "**2. What is the syntax for a basic try-except block?**"
      ],
      "metadata": {
        "id": "QOPXtTrb6DGD"
      }
    },
    {
      "cell_type": "markdown",
      "source": [
        "try:\n",
        "  \n",
        "    Code written here\n",
        "\n",
        "except ExceptionType:\n",
        "  \n",
        "    exceuted if there is error in try block\n",
        "    ExceptionType is optional"
      ],
      "metadata": {
        "id": "oSByI4fJMHHT"
      }
    },
    {
      "cell_type": "code",
      "source": [
        "try:\n",
        "  b = \"20\"/2\n",
        "except TypeError:\n",
        "  print(\"This code has type error\")\n"
      ],
      "metadata": {
        "colab": {
          "base_uri": "https://localhost:8080/"
        },
        "id": "MmJUMUNM6GH8",
        "outputId": "d8d661e2-7b00-42ae-e20b-015c9c84802c"
      },
      "execution_count": null,
      "outputs": [
        {
          "output_type": "stream",
          "name": "stdout",
          "text": [
            "This code has type error\n"
          ]
        }
      ]
    },
    {
      "cell_type": "markdown",
      "source": [
        "**3. What happens if an exception occurs inside a try block and there is no matching\n",
        "except block?**"
      ],
      "metadata": {
        "id": "3UReFOK56Gop"
      }
    },
    {
      "cell_type": "code",
      "source": [
        "try:\n",
        "  b = \"20\"/2\n",
        "except ZeroDivisionError:\n",
        "  print(\"Zero cannot be used to divide\")\n",
        "print(\"Print statement outside try-except block\")"
      ],
      "metadata": {
        "colab": {
          "base_uri": "https://localhost:8080/",
          "height": 235
        },
        "id": "t5XVi6rs6JxT",
        "outputId": "9e4c6763-7d0a-4166-adef-26ea6a61f9b8"
      },
      "execution_count": null,
      "outputs": [
        {
          "output_type": "error",
          "ename": "TypeError",
          "evalue": "ignored",
          "traceback": [
            "\u001b[0;31m---------------------------------------------------------------------------\u001b[0m",
            "\u001b[0;31mTypeError\u001b[0m                                 Traceback (most recent call last)",
            "\u001b[0;32m<ipython-input-19-97201b1f03f4>\u001b[0m in \u001b[0;36m<cell line: 1>\u001b[0;34m()\u001b[0m\n\u001b[1;32m      1\u001b[0m \u001b[0;32mtry\u001b[0m\u001b[0;34m:\u001b[0m\u001b[0;34m\u001b[0m\u001b[0;34m\u001b[0m\u001b[0m\n\u001b[0;32m----> 2\u001b[0;31m   \u001b[0mb\u001b[0m \u001b[0;34m=\u001b[0m \u001b[0;34m\"20\"\u001b[0m\u001b[0;34m/\u001b[0m\u001b[0;36m2\u001b[0m\u001b[0;34m\u001b[0m\u001b[0;34m\u001b[0m\u001b[0m\n\u001b[0m\u001b[1;32m      3\u001b[0m \u001b[0;32mexcept\u001b[0m \u001b[0mZeroDivisionError\u001b[0m\u001b[0;34m:\u001b[0m\u001b[0;34m\u001b[0m\u001b[0;34m\u001b[0m\u001b[0m\n\u001b[1;32m      4\u001b[0m   \u001b[0mprint\u001b[0m\u001b[0;34m(\u001b[0m\u001b[0;34m\"Zero cannot be used to divide\"\u001b[0m\u001b[0;34m)\u001b[0m\u001b[0;34m\u001b[0m\u001b[0;34m\u001b[0m\u001b[0m\n\u001b[1;32m      5\u001b[0m \u001b[0mprint\u001b[0m\u001b[0;34m(\u001b[0m\u001b[0;34m\"Print statement outside try-except block\"\u001b[0m\u001b[0;34m)\u001b[0m\u001b[0;34m\u001b[0m\u001b[0;34m\u001b[0m\u001b[0m\n",
            "\u001b[0;31mTypeError\u001b[0m: unsupported operand type(s) for /: 'str' and 'int'"
          ]
        }
      ]
    },
    {
      "cell_type": "markdown",
      "source": [
        "The above code has ZeroDivisionError in except block. The code b = \"20\"/2 inside the try block produces TypeError but there is no except block specified for this error. Hence code will produce TypeError and doesnot execute code outside the try-except block.\n",
        "\n",
        "We need to specify TypeError in except block to catch this error as given in below code"
      ],
      "metadata": {
        "id": "wHcQ3tzaNG7Z"
      }
    },
    {
      "cell_type": "code",
      "source": [
        "try:\n",
        "  b = \"20\"/2\n",
        "except TypeError:\n",
        "  print(\"This code has type error\")\n",
        "print(\"Print statement outside try-except block\")"
      ],
      "metadata": {
        "colab": {
          "base_uri": "https://localhost:8080/"
        },
        "id": "i9AFZc9fNMQw",
        "outputId": "c7ae292d-e313-450b-fdef-8ba85aac8714"
      },
      "execution_count": null,
      "outputs": [
        {
          "output_type": "stream",
          "name": "stdout",
          "text": [
            "This code has type error\n",
            "Print statement outside try-except block\n"
          ]
        }
      ]
    },
    {
      "cell_type": "markdown",
      "source": [
        "**4. What is the difference between using a bare except block and specifying a specific\n",
        "exception type?**"
      ],
      "metadata": {
        "id": "jNU9KXa16KWh"
      }
    },
    {
      "cell_type": "markdown",
      "source": [
        "The bare except block will catch and handle all types of exceptions, including both the built-in exceptions provided by Python and any custom exceptions you create"
      ],
      "metadata": {
        "id": "ftOxe47ZNqCS"
      }
    },
    {
      "cell_type": "code",
      "source": [
        "try:\n",
        "  a = 10/0\n",
        "except:\n",
        "  print(\"Zero division error exception\")\n",
        "print(\"Print statement outside try-except block\")"
      ],
      "metadata": {
        "colab": {
          "base_uri": "https://localhost:8080/"
        },
        "id": "ePq6yESFNzQD",
        "outputId": "5aaa8c42-d9af-4e64-dda0-ace2f39861f9"
      },
      "execution_count": null,
      "outputs": [
        {
          "output_type": "stream",
          "name": "stdout",
          "text": [
            "Zero division error exception\n",
            "Print statement outside try-except block\n"
          ]
        }
      ]
    },
    {
      "cell_type": "markdown",
      "source": [
        "Specifying the specific exception type will catch only the exception that is specified in the except block. If the code inside the try block comes across a error which is not specified in except block, then the program will throw error and terminate excecution."
      ],
      "metadata": {
        "id": "DuuELvF9OCKj"
      }
    },
    {
      "cell_type": "code",
      "source": [
        "try:\n",
        "  b = \"20\"/2\n",
        "except TypeError:\n",
        "  print(\"This code has type error\")"
      ],
      "metadata": {
        "colab": {
          "base_uri": "https://localhost:8080/"
        },
        "id": "yy8mpMuE6NKw",
        "outputId": "d7fd352b-096c-4b3e-ee7d-f48bdbdf6224"
      },
      "execution_count": null,
      "outputs": [
        {
          "output_type": "stream",
          "name": "stdout",
          "text": [
            "This code has type error\n"
          ]
        }
      ]
    },
    {
      "cell_type": "markdown",
      "source": [
        "**5. Can you have nested try-except blocks in Python? If yes, then give an example.**"
      ],
      "metadata": {
        "id": "t9tLCj086Ntr"
      }
    },
    {
      "cell_type": "markdown",
      "source": [
        "Yes, nested try-except block is possible in Python."
      ],
      "metadata": {
        "id": "6jvPlNGeRWwX"
      }
    },
    {
      "cell_type": "code",
      "source": [
        "l_num = [5, 4, 3, [10, 9], 'a', 2, 1, 0]"
      ],
      "metadata": {
        "id": "QrqpWBdP6RTf"
      },
      "execution_count": null,
      "outputs": []
    },
    {
      "cell_type": "markdown",
      "source": [
        "Here the list 'l_num' has elements of different datatypes. We need to divide 10 with element of the list only if it is a number."
      ],
      "metadata": {
        "id": "YEEuJRsaR6uw"
      }
    },
    {
      "cell_type": "code",
      "source": [
        "try:\n",
        "  for num in l_num:\n",
        "    try:\n",
        "      division = 10/num\n",
        "      print(f\"10 divided by {num} gives :{division}\")\n",
        "    except TypeError:\n",
        "      print(f\"Number cannot be divided by {num}\")\n",
        "except ZeroDivisionError:\n",
        "  print(\"Number cannot be divided by 0\")"
      ],
      "metadata": {
        "colab": {
          "base_uri": "https://localhost:8080/"
        },
        "id": "BsvGFKlhPwHB",
        "outputId": "01d85e0f-f0f9-4500-afde-643894255889"
      },
      "execution_count": null,
      "outputs": [
        {
          "output_type": "stream",
          "name": "stdout",
          "text": [
            "10 divided by 5 gives :2.0\n",
            "10 divided by 4 gives :2.5\n",
            "10 divided by 3 gives :3.3333333333333335\n",
            "Number cannot be divided by [10, 9]\n",
            "Number cannot be divided by a\n",
            "10 divided by 2 gives :5.0\n",
            "10 divided by 1 gives :10.0\n",
            "Number cannot be divided by 0\n"
          ]
        }
      ]
    },
    {
      "cell_type": "markdown",
      "source": [
        "**6. Can we use multiple exception blocks, if yes then give an example.**"
      ],
      "metadata": {
        "id": "JKHQmoTq6SAf"
      }
    },
    {
      "cell_type": "markdown",
      "source": [
        "Yes, we can use multiple exception blocks"
      ],
      "metadata": {
        "id": "qrTtmg6mTDVs"
      }
    },
    {
      "cell_type": "code",
      "source": [
        "number_list = [1, 2, 3, 4, 5]\n",
        "\n",
        "try:\n",
        "  index = int(input(\"Enter an index: \"))\n",
        "  value = number_list[index]\n",
        "  print(f\"Value at index {index} is: {value}\")\n",
        "except IndexError:\n",
        "  print(\"Error: Index is out of range\")\n",
        "except ValueError:\n",
        "  print(\"Error: Invalid index value\")"
      ],
      "metadata": {
        "colab": {
          "base_uri": "https://localhost:8080/"
        },
        "id": "oPaIg0vS6UrP",
        "outputId": "a172441d-81ff-46b5-ca56-d81382480298"
      },
      "execution_count": null,
      "outputs": [
        {
          "output_type": "stream",
          "name": "stdout",
          "text": [
            "Enter an index: 2\n",
            "Value at index 2 is: 3\n"
          ]
        }
      ]
    },
    {
      "cell_type": "markdown",
      "source": [
        "**7. Write the reason due to which following errors are raised:**\n",
        "\n",
        "**a. EOFError**\n",
        "\n",
        "**b. FloatingPointError**\n",
        "\n",
        "**c. IndexError**\n",
        "\n",
        "**d. MemoryError**\n",
        "\n",
        "**e. OverflowError**\n",
        "\n",
        "**f. TabError**\n",
        "\n",
        "**g. ValueError**"
      ],
      "metadata": {
        "id": "Li5gJjzw6VM6"
      }
    },
    {
      "cell_type": "markdown",
      "source": [
        "a. EOFError:\n",
        "\n",
        "    EOFError is raised when  input() hits an end-of-file condition (EOF) without reading any data. This occurs when we have asked the user for input but have not provided any input in the input box.\n",
        "\n",
        "b.FloatingPointError:\n",
        "\n",
        "    This error occurs when a floating-point operation, such as division by zero, results in an ZeroDivisionError.\n",
        "\n",
        "c.IndexError:\n",
        "\n",
        "    This error is raised when an index is out of range for sequence.\n",
        "\n",
        "d. MemoryError\n",
        "\n",
        "    This error occurs when an operation fails to allocate enough memory for its execution. It indicates that the program has exhausted the available memory resources.\n",
        "\n",
        "e. OverflowError:\n",
        "    This error is raised when the result of an arithmetic operation exceeds the maximum representable value for a numeric type, such as an integer or a floating-point number.\n",
        "\n",
        "f. TabError:\n",
        "\n",
        "    This error is raised when there are inconsistencies or incorrect indentation in the use of tabs and spaces for indentation in Python code. It typically occurs when mixing tabs and spaces or when the indentation levels are not aligned correctly.\n",
        "\n",
        "g. ValueError:\n",
        "\n",
        "    This error is raised when a function receives an argument of the correct type but an inappropriate value. It usually indicates that the input value does not meet the expected criteria or is not valid for the operation being performed.\n"
      ],
      "metadata": {
        "id": "rlTbJ3UFVls6"
      }
    },
    {
      "cell_type": "markdown",
      "source": [
        "**8. Write code for the following given scenario and add try-exception block to it.**\n",
        "\n",
        "**a. Program to divide two numbers**\n",
        "\n",
        "**b. Program to convert a string to an integer**\n",
        "\n",
        "**c. Program to access an element in a list**\n",
        "\n",
        "**d. Program to handle a specific exception**\n",
        "\n",
        "**e. Program to handle any exception**"
      ],
      "metadata": {
        "id": "nH9x-TM16uEs"
      }
    },
    {
      "cell_type": "code",
      "source": [
        "# Program to divide two numbers\n",
        "\n",
        "def division(n1, l):\n",
        "  for n in l:\n",
        "    try:\n",
        "      result = n1/n\n",
        "      print(result)\n",
        "    except ZeroDivisionError:\n",
        "      print(\"Zero cannot be used as denominator\")\n",
        "\n",
        "l_num = [5, 8, 0, 6, 2, 3]\n",
        "division(10, l_num)"
      ],
      "metadata": {
        "colab": {
          "base_uri": "https://localhost:8080/"
        },
        "id": "QM9D-5PP69BD",
        "outputId": "bb21541c-6622-48fa-a379-8604f5269a90"
      },
      "execution_count": null,
      "outputs": [
        {
          "output_type": "stream",
          "name": "stdout",
          "text": [
            "2.0\n",
            "1.25\n",
            "Zero cannot be used as denominator\n",
            "1.6666666666666667\n",
            "5.0\n",
            "3.3333333333333335\n"
          ]
        }
      ]
    },
    {
      "cell_type": "code",
      "source": [
        "# Program to convert a string to an integer\n",
        "\n",
        "def str_to_int(list_str):\n",
        "  print(f\"The list with string: {list_str}\")\n",
        "  for s in list_str:\n",
        "    try:\n",
        "      a = int(s)\n",
        "      print(a)\n",
        "    except ValueError:\n",
        "      print(f\"{s} cannot be converted to integer\")\n",
        "\n",
        "list_str = [\"1\", \"2.34\", \"ABC\", \"A string\", \"100\", \"235\"]\n",
        "str_to_int(list_str)\n"
      ],
      "metadata": {
        "colab": {
          "base_uri": "https://localhost:8080/"
        },
        "id": "9YDsI2sWY8ve",
        "outputId": "3c9fba78-8644-4069-d651-b9e4d19f4c5c"
      },
      "execution_count": null,
      "outputs": [
        {
          "output_type": "stream",
          "name": "stdout",
          "text": [
            "The list with string: ['1', '2.34', 'ABC', 'A string', '100', '235']\n",
            "1\n",
            "2.34 cannot be converted to integer\n",
            "ABC cannot be converted to integer\n",
            "A string cannot be converted to integer\n",
            "100\n",
            "235\n"
          ]
        }
      ]
    },
    {
      "cell_type": "code",
      "source": [
        "# Program to access an element in a list\n",
        "\n",
        "def element_in_list(l):\n",
        "  try:\n",
        "    index = int(input(\"Enter an index: \"))\n",
        "    value = number_list[index]\n",
        "    print(f\"Value at index {index} is: {value}\")\n",
        "  except IndexError:\n",
        "    print(\"Error: Index is out of range\")\n",
        "  except ValueError:\n",
        "    print(\"Error: Invalid index value\")\n",
        "\n",
        "number_list = [1, 2, 3, 4, 5]\n",
        "element_in_list(number_list)"
      ],
      "metadata": {
        "colab": {
          "base_uri": "https://localhost:8080/"
        },
        "id": "vIunFpNzaThl",
        "outputId": "48c03aff-28a2-4d7c-e127-a9bf41197018"
      },
      "execution_count": null,
      "outputs": [
        {
          "output_type": "stream",
          "name": "stdout",
          "text": [
            "Enter an index: 2\n",
            "Value at index 2 is: 3\n"
          ]
        }
      ]
    },
    {
      "cell_type": "code",
      "source": [
        "# Program to handle a specific exception\n",
        "\n",
        "try:\n",
        "  b = \"20\"/2\n",
        "except TypeError:\n",
        "  print(\"This code has type error\")"
      ],
      "metadata": {
        "colab": {
          "base_uri": "https://localhost:8080/"
        },
        "id": "IpO7w6kIcrBp",
        "outputId": "c04188a5-c035-4a9b-aafd-56e96b6f754a"
      },
      "execution_count": null,
      "outputs": [
        {
          "output_type": "stream",
          "name": "stdout",
          "text": [
            "This code has type error\n"
          ]
        }
      ]
    },
    {
      "cell_type": "code",
      "source": [
        "# Program to handle any exception\n",
        "\n",
        "try:\n",
        "  b = \"20\"/2\n",
        "except:\n",
        "  print(\"This code has type error\")"
      ],
      "metadata": {
        "colab": {
          "base_uri": "https://localhost:8080/"
        },
        "id": "zDFBsf1zdAYw",
        "outputId": "cd5639f3-c5a7-4397-ded8-94165591ec04"
      },
      "execution_count": null,
      "outputs": [
        {
          "output_type": "stream",
          "name": "stdout",
          "text": [
            "This code has type error\n"
          ]
        }
      ]
    },
    {
      "cell_type": "code",
      "source": [],
      "metadata": {
        "id": "OAb0vG9HdG-W"
      },
      "execution_count": null,
      "outputs": []
    }
  ]
}