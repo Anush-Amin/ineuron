{
  "nbformat": 4,
  "nbformat_minor": 0,
  "metadata": {
    "colab": {
      "provenance": [],
      "authorship_tag": "ABX9TyP0HRA3P2YJLwjhKnTk9cPP",
      "include_colab_link": true
    },
    "kernelspec": {
      "name": "python3",
      "display_name": "Python 3"
    },
    "language_info": {
      "name": "python"
    }
  },
  "cells": [
    {
      "cell_type": "markdown",
      "metadata": {
        "id": "view-in-github",
        "colab_type": "text"
      },
      "source": [
        "<a href=\"https://colab.research.google.com/github/Anush-Amin/ineuron/blob/main/Assignment_5.ipynb\" target=\"_parent\"><img src=\"https://colab.research.google.com/assets/colab-badge.svg\" alt=\"Open In Colab\"/></a>"
      ]
    },
    {
      "cell_type": "markdown",
      "source": [
        "**1. What does an empty dictionary's code look like?**"
      ],
      "metadata": {
        "id": "gqfe1ajwrlex"
      }
    },
    {
      "cell_type": "code",
      "source": [
        "# dictionary can be created using curly brackets\n",
        "d1 = {}\n",
        "type(d1)"
      ],
      "metadata": {
        "colab": {
          "base_uri": "https://localhost:8080/"
        },
        "id": "FF84PJR6rTK2",
        "outputId": "0d36c864-d211-4a55-a0bb-8afe88232d04"
      },
      "execution_count": 2,
      "outputs": [
        {
          "output_type": "execute_result",
          "data": {
            "text/plain": [
              "dict"
            ]
          },
          "metadata": {},
          "execution_count": 2
        }
      ]
    },
    {
      "cell_type": "code",
      "execution_count": 3,
      "metadata": {
        "colab": {
          "base_uri": "https://localhost:8080/"
        },
        "id": "ZmKu0menrARj",
        "outputId": "7f1efc9d-d376-4bb9-ef4f-9d7d217d04c3"
      },
      "outputs": [
        {
          "output_type": "execute_result",
          "data": {
            "text/plain": [
              "dict"
            ]
          },
          "metadata": {},
          "execution_count": 3
        }
      ],
      "source": [
        "# dictionary can also be created using constructor\n",
        "d2 = dict()\n",
        "type(d2)"
      ]
    },
    {
      "cell_type": "markdown",
      "source": [
        "**2. What is the value of a dictionary value with the key 'foo' and the value 42?**"
      ],
      "metadata": {
        "id": "rSOKpt7Nr1JJ"
      }
    },
    {
      "cell_type": "code",
      "source": [
        "foo_dict = {'foo':42}\n",
        "foo_dict.values()\n",
        "# Here the value is 42"
      ],
      "metadata": {
        "colab": {
          "base_uri": "https://localhost:8080/"
        },
        "id": "xfgk8-l0rCQK",
        "outputId": "110df6b3-beef-4d18-ce42-978a22927e6b"
      },
      "execution_count": 6,
      "outputs": [
        {
          "output_type": "execute_result",
          "data": {
            "text/plain": [
              "dict_values([42])"
            ]
          },
          "metadata": {},
          "execution_count": 6
        }
      ]
    },
    {
      "cell_type": "markdown",
      "source": [
        "**3. What is the most significant distinction between a dictionary and a list?**"
      ],
      "metadata": {
        "id": "HKhUKv1Usdbz"
      }
    },
    {
      "cell_type": "markdown",
      "source": [
        "The dictionary will be an unordered collection of key, value pair.\n",
        "\n",
        "dict = {'key': 'value'} \n",
        "\n",
        "List will be an ordered collection of elements with each element having index starting from 0 \n",
        "\n",
        "list1 = [1, 2, 3, 'a'] \n",
        "\n",
        "Here index of 1 is 0, 2 is 1 and so on. In reverse 'a' will be in index –1, 3 in –2 and so on."
      ],
      "metadata": {
        "id": "4dcLsP7EsjZk"
      }
    },
    {
      "cell_type": "markdown",
      "source": [
        "**4. What happens if you try to access spam['foo'] if spam is {'bar': 100}?** "
      ],
      "metadata": {
        "id": "l1jEU-DLs8pu"
      }
    },
    {
      "cell_type": "code",
      "source": [
        "spam = {'bar': 100}\n",
        "spam['foo'] "
      ],
      "metadata": {
        "colab": {
          "base_uri": "https://localhost:8080/",
          "height": 182
        },
        "id": "mxg0ZepOsNxG",
        "outputId": "ecc6afc3-69be-455b-a786-140b00e470b2"
      },
      "execution_count": 7,
      "outputs": [
        {
          "output_type": "error",
          "ename": "KeyError",
          "evalue": "ignored",
          "traceback": [
            "\u001b[0;31m---------------------------------------------------------------------------\u001b[0m",
            "\u001b[0;31mKeyError\u001b[0m                                  Traceback (most recent call last)",
            "\u001b[0;32m<ipython-input-7-3d3b0f5c9538>\u001b[0m in \u001b[0;36m<cell line: 2>\u001b[0;34m()\u001b[0m\n\u001b[1;32m      1\u001b[0m \u001b[0mspam\u001b[0m \u001b[0;34m=\u001b[0m \u001b[0;34m{\u001b[0m\u001b[0;34m'bar'\u001b[0m\u001b[0;34m:\u001b[0m \u001b[0;36m100\u001b[0m\u001b[0;34m}\u001b[0m\u001b[0;34m\u001b[0m\u001b[0;34m\u001b[0m\u001b[0m\n\u001b[0;32m----> 2\u001b[0;31m \u001b[0mspam\u001b[0m\u001b[0;34m[\u001b[0m\u001b[0;34m'foo'\u001b[0m\u001b[0;34m]\u001b[0m\u001b[0;34m\u001b[0m\u001b[0;34m\u001b[0m\u001b[0m\n\u001b[0m",
            "\u001b[0;31mKeyError\u001b[0m: 'foo'"
          ]
        }
      ]
    },
    {
      "cell_type": "markdown",
      "source": [
        "Here we get KeyError because spam dictionary does not have a key 'foo' in it"
      ],
      "metadata": {
        "id": "uYjcforqtgFY"
      }
    },
    {
      "cell_type": "markdown",
      "source": [
        "**5.  If a dictionary is stored in spam, what is the difference between the expressions 'cat' in spam and 'cat' in spam.keys()?**"
      ],
      "metadata": {
        "id": "hydc84SCtze0"
      }
    },
    {
      "cell_type": "code",
      "source": [
        "spam = {'cat':2, 'dog': 1, 'cow': 5}\n",
        "\n",
        "print(f\"'cat' in spam expression output is {'cat' in spam}\")\n",
        "\n",
        "print(f\"'cat' in spam.keys() expression output is {'cat' in spam.keys()}\")"
      ],
      "metadata": {
        "colab": {
          "base_uri": "https://localhost:8080/"
        },
        "id": "4qTIQatJtbDc",
        "outputId": "6da45295-a12f-401f-ba01-fef63ab671c9"
      },
      "execution_count": 14,
      "outputs": [
        {
          "output_type": "stream",
          "name": "stdout",
          "text": [
            "'cat' in spam expression output is True\n",
            "'cat' in spam.keys() expression output is True\n"
          ]
        }
      ]
    },
    {
      "cell_type": "markdown",
      "source": [
        "The expression 'cat' in spam implicitly checks if the key 'cat' is present in the dictionary spam as key, returning True if found and False otherwise.\n",
        "\n",
        "On the other hand, the expression 'cat' in spam.keys() explicitly checks if the key 'cat' is present among the keys of the dictionary spam, returning True if found and False otherwise."
      ],
      "metadata": {
        "id": "bo8P7YRbvfEA"
      }
    },
    {
      "cell_type": "markdown",
      "source": [
        "**6. If a dictionary is stored in spam, what is the difference between the expressions 'cat' in spam and 'cat' in spam.values()?** "
      ],
      "metadata": {
        "id": "efEIr1QcxC_7"
      }
    },
    {
      "cell_type": "code",
      "source": [
        "spam = {2: 'cat', 1: 'dog', 5: 'cow'}\n",
        "\n",
        "print(f\"'cat' in spam expression output is {'cat' in spam}\")\n",
        "\n",
        "print(f\"'cat' in spam.keys() expression output is {'cat' in spam.values()}\")"
      ],
      "metadata": {
        "colab": {
          "base_uri": "https://localhost:8080/"
        },
        "id": "DjV56O8duJ2F",
        "outputId": "a6e2d04d-584b-4563-9d29-43261fb1f847"
      },
      "execution_count": 15,
      "outputs": [
        {
          "output_type": "stream",
          "name": "stdout",
          "text": [
            "'cat' in spam expression output is False\n",
            "'cat' in spam.keys() expression output is True\n"
          ]
        }
      ]
    },
    {
      "cell_type": "markdown",
      "source": [
        "The expression 'cat' in spam implicitly checks if the key 'cat' is present in the dictionary spam as key, returning True if found and False otherwise.\n",
        "\n",
        "On the other hand, the expression 'cat' in spam.values() explicitly checks if the key 'cat' is present among the values of the dictionary spam, returning True if found and False otherwise"
      ],
      "metadata": {
        "id": "8_B8SsclxzKo"
      }
    },
    {
      "cell_type": "markdown",
      "source": [
        "**7. What is a shortcut for the following code?**\n",
        "\n",
        "**if 'color' not in spam:**\n",
        "\n",
        "  **spam['color'] = 'black'** "
      ],
      "metadata": {
        "id": "LXhlwQidyNJp"
      }
    },
    {
      "cell_type": "code",
      "source": [
        "spam = {\"car company\": \"Mahindra\", \"car name\": \"XUV 700\"}\n",
        "print(f'The original dictionary is {spam}')\n",
        "spam.setdefault('color', 'black')\n",
        "print(f'The dictionary after adding color is {spam}')"
      ],
      "metadata": {
        "colab": {
          "base_uri": "https://localhost:8080/"
        },
        "id": "rtmTjsXXxaoP",
        "outputId": "4908523f-a54e-44df-a083-c2e76f9df89b"
      },
      "execution_count": 19,
      "outputs": [
        {
          "output_type": "stream",
          "name": "stdout",
          "text": [
            "The original dictionary is {'car company': 'Mahindra', 'car name': 'XUV 700'}\n",
            "The dictionary after adding color is {'car company': 'Mahindra', 'car name': 'XUV 700', 'color': 'black'}\n"
          ]
        }
      ]
    },
    {
      "cell_type": "markdown",
      "source": [
        "**8. How do you \"pretty print\" dictionary values using which module and function?**"
      ],
      "metadata": {
        "id": "3rwC5a-D0hAx"
      }
    },
    {
      "cell_type": "code",
      "source": [
        "import pprint as pp"
      ],
      "metadata": {
        "id": "zrebkLvVyJjb"
      },
      "execution_count": 21,
      "outputs": []
    },
    {
      "cell_type": "code",
      "source": [
        "spam = {'car company':'Mahindra','car name':'XUV 700','color':'black'}\n",
        "pp.pprint(spam)"
      ],
      "metadata": {
        "colab": {
          "base_uri": "https://localhost:8080/"
        },
        "id": "k-Dy75I3022-",
        "outputId": "d00b9820-9729-495d-99c4-692f12cc4ada"
      },
      "execution_count": 22,
      "outputs": [
        {
          "output_type": "stream",
          "name": "stdout",
          "text": [
            "{'car company': 'Mahindra', 'car name': 'XUV 700', 'color': 'black'}\n"
          ]
        }
      ]
    },
    {
      "cell_type": "code",
      "source": [],
      "metadata": {
        "id": "lX_zKJaY1PQ4"
      },
      "execution_count": null,
      "outputs": []
    }
  ]
}