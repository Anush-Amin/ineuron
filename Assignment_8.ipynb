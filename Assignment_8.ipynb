{
  "nbformat": 4,
  "nbformat_minor": 0,
  "metadata": {
    "colab": {
      "provenance": [],
      "authorship_tag": "ABX9TyOHHCSNXQ5zRx4vDLU4z2Rf",
      "include_colab_link": true
    },
    "kernelspec": {
      "name": "python3",
      "display_name": "Python 3"
    },
    "language_info": {
      "name": "python"
    }
  },
  "cells": [
    {
      "cell_type": "markdown",
      "metadata": {
        "id": "view-in-github",
        "colab_type": "text"
      },
      "source": [
        "<a href=\"https://colab.research.google.com/github/Anush-Amin/ineuron/blob/main/Assignment_8.ipynb\" target=\"_parent\"><img src=\"https://colab.research.google.com/assets/colab-badge.svg\" alt=\"Open In Colab\"/></a>"
      ]
    },
    {
      "cell_type": "markdown",
      "source": [
        "**1. In Python, what is the difference between a built-in function and a user-defined function? Provide an\n",
        "example of each.**"
      ],
      "metadata": {
        "id": "sBbKGIlcnzZu"
      }
    },
    {
      "cell_type": "markdown",
      "source": [
        "Built-in functions are functions which are already available to use without having to do any additional coding.\n",
        "\n",
        "User-defined functions are functions which are created by coding using the def keyword. This function will have user-defined function name and parameters."
      ],
      "metadata": {
        "id": "LBARTv0ZHdNp"
      }
    },
    {
      "cell_type": "code",
      "source": [
        "# Built-defined function\n",
        "print(\"print is one of the built-defined function which is used to print a statement\")\n",
        "\n",
        "# User-defined function\n",
        "## Have included docstring to make user understand what does the function do\n",
        "def find_quotient(d1, d2):\n",
        "  \"\"\"\n",
        "  Calculates the quotient of two numbers.\n",
        "\n",
        "  Parameters:\n",
        "  - d1: The number to be divided (dividend).\n",
        "  - d2: The number to divide by (divisor).\n",
        "\n",
        "  Returns:\n",
        "  The quotient of the division.\n",
        "  \"\"\"\n",
        "  return d1//d2\n",
        "\n",
        "print(find_quotient(5, 3))"
      ],
      "metadata": {
        "id": "ZvoH8Fxmn26I",
        "colab": {
          "base_uri": "https://localhost:8080/"
        },
        "outputId": "884b16a2-fd4c-4f13-fc5d-0c1f57b7106d"
      },
      "execution_count": null,
      "outputs": [
        {
          "output_type": "stream",
          "name": "stdout",
          "text": [
            "print is one of the built-defined function which is used to print a statement\n",
            "1\n"
          ]
        }
      ]
    },
    {
      "cell_type": "markdown",
      "source": [
        "**2. How can you pass arguments to a function in Python? Explain the difference between positional\n",
        "arguments and keyword arguments.**"
      ],
      "metadata": {
        "id": "vtP1489In7AJ"
      }
    },
    {
      "cell_type": "markdown",
      "source": [
        "The arguements to a function can be passed in following ways:\n",
        "\n",
        "1.   **Positional arguement**\n",
        "\n",
        "  This arguement is passed based on the position of the parameter in the function. The arguements(values) which are intended to be assigned for parameters should in the same order as they are in the function definition."
      ],
      "metadata": {
        "id": "dSO6L2MRL-q9"
      }
    },
    {
      "cell_type": "code",
      "source": [
        "def find_quotient(d1, d2):\n",
        "  \"\"\"\n",
        "  Calculates the quotient of two numbers.\n",
        "\n",
        "  Parameters:\n",
        "  - d1: The number to be divided (dividend).\n",
        "  - d2: The number to divide by (divisor).\n",
        "\n",
        "  Returns:\n",
        "  The quotient of the division.\n",
        "  \"\"\"\n",
        "  return d1//d2"
      ],
      "metadata": {
        "id": "ogYmHGp-n_0d"
      },
      "execution_count": null,
      "outputs": []
    },
    {
      "cell_type": "code",
      "source": [
        "# the order of dividend(d1) and divisor(d2) is important to assign an arguement\n",
        "## if dividend is 5 and divisor is 3, it should be in order find_quotient(5,3)\n",
        "## because while defining the function d1 is given first and then d2\n",
        "## hence it will consider first value to be d1 and second as d2\n",
        "print(find_quotient(5,3))"
      ],
      "metadata": {
        "colab": {
          "base_uri": "https://localhost:8080/"
        },
        "id": "7FRZ73SwNdta",
        "outputId": "89cc813b-3112-4b89-a4bb-fb675c78f9a1"
      },
      "execution_count": null,
      "outputs": [
        {
          "output_type": "stream",
          "name": "stdout",
          "text": [
            "1\n"
          ]
        }
      ]
    },
    {
      "cell_type": "markdown",
      "source": [
        "2. **Keyword arguement**\n",
        "\n",
        "  In this arguements are passed directly using parameter. Hence order of arguement is not important."
      ],
      "metadata": {
        "id": "U6UkoyurOmfs"
      }
    },
    {
      "cell_type": "code",
      "source": [
        "print(find_quotient(d2=3,d1=5))"
      ],
      "metadata": {
        "colab": {
          "base_uri": "https://localhost:8080/"
        },
        "id": "EwV3ZauPPNw0",
        "outputId": "336245b2-253f-46d5-e0d0-14ba149f9a25"
      },
      "execution_count": null,
      "outputs": [
        {
          "output_type": "stream",
          "name": "stdout",
          "text": [
            "1\n"
          ]
        }
      ]
    },
    {
      "cell_type": "markdown",
      "source": [
        "**3. What is the purpose of the return statement in a function? Can a function have multiple return\n",
        "statements? Explain with an example.**"
      ],
      "metadata": {
        "id": "OTME6AICoAcn"
      }
    },
    {
      "cell_type": "markdown",
      "source": [
        "The return statement is used to return a value from the function, whenever the function is called.\n",
        "\n",
        "Function cannot have multiple return statements because the once the return statement is encountered the function exits."
      ],
      "metadata": {
        "id": "dwj1B4TSPrxv"
      }
    },
    {
      "cell_type": "code",
      "source": [
        "def calculate(a, b):\n",
        "  sum = a+b\n",
        "  diff = a-b\n",
        "  return sum\n",
        "  return diff"
      ],
      "metadata": {
        "id": "medIGWtOoJh-"
      },
      "execution_count": null,
      "outputs": []
    },
    {
      "cell_type": "code",
      "source": [
        "calculate(20, 10)"
      ],
      "metadata": {
        "colab": {
          "base_uri": "https://localhost:8080/"
        },
        "id": "_Qn9uBnrTOYg",
        "outputId": "3e995ac5-eaaa-49a3-9d54-6c599a4a51d7"
      },
      "execution_count": null,
      "outputs": [
        {
          "output_type": "execute_result",
          "data": {
            "text/plain": [
              "30"
            ]
          },
          "metadata": {},
          "execution_count": 10
        }
      ]
    },
    {
      "cell_type": "markdown",
      "source": [
        "Here the first return statement return sum will be executed and then the function exits. Hence only summ will be printed and not difference"
      ],
      "metadata": {
        "id": "rn2Dg8fpTZ9w"
      }
    },
    {
      "cell_type": "markdown",
      "source": [
        "**4. What are lambda functions in Python? How are they different from regular functions? Provide an\n",
        "example where a lambda function can be useful.**"
      ],
      "metadata": {
        "id": "_7rjwANBoKdy"
      }
    },
    {
      "cell_type": "markdown",
      "source": [
        "A lambda function is an anonymous function which means it doesnot have name.\n",
        "A lambda function can take any number of arguments, but can only have one expression.\n",
        "\n",
        "*  Regular function is defined using the keyword 'def'. Lambda function is defined using the keyword 'lambda'\n",
        "\n",
        "*  Regular function has a name but lambda function is anonymous.\n",
        "\n",
        "*  Regular function can have multiple expressions but lambda function will have only single expression.\n",
        "\n",
        "*  Regular functions are used to perform complex tasks whereas lambda function is used to perform a inline task."
      ],
      "metadata": {
        "id": "q2l_u9MtUaJ_"
      }
    },
    {
      "cell_type": "code",
      "source": [
        "square_of_number = lambda x: x**2\n",
        "print(square_of_number(5))"
      ],
      "metadata": {
        "id": "PG_V_JtUoOTN",
        "colab": {
          "base_uri": "https://localhost:8080/"
        },
        "outputId": "76c6dab4-a679-4c95-8ffd-9a6f28c359a1"
      },
      "execution_count": null,
      "outputs": [
        {
          "output_type": "stream",
          "name": "stdout",
          "text": [
            "25\n"
          ]
        }
      ]
    },
    {
      "cell_type": "markdown",
      "source": [
        "**5. How does the concept of \"scope\" apply to functions in Python? Explain the difference between local\n",
        "scope and global scope.**"
      ],
      "metadata": {
        "id": "Isa4ze4DoOxF"
      }
    },
    {
      "cell_type": "markdown",
      "source": [
        " The 'scope' in function defines the region in which variables and objects which are defined can be accessed.\n",
        "\n",
        " *  Variables defined within a function are considered to have local scope. These variables are accessible only within the function."
      ],
      "metadata": {
        "id": "cus8xrsWYrnL"
      }
    },
    {
      "cell_type": "code",
      "source": [
        "def func():\n",
        "  local_a = 6  # 'local_a' has local scope\n",
        "  print(local_a)\n",
        "\n",
        "func()\n",
        "print(local_a)    # this will cause error beacuse local_a has local scope within func()"
      ],
      "metadata": {
        "id": "1pD_a3vVoT-f",
        "colab": {
          "base_uri": "https://localhost:8080/",
          "height": 217
        },
        "outputId": "64a65f4d-2941-43d6-f219-b2fd2a31fb96"
      },
      "execution_count": null,
      "outputs": [
        {
          "output_type": "stream",
          "name": "stdout",
          "text": [
            "6\n"
          ]
        },
        {
          "output_type": "error",
          "ename": "NameError",
          "evalue": "ignored",
          "traceback": [
            "\u001b[0;31m---------------------------------------------------------------------------\u001b[0m",
            "\u001b[0;31mNameError\u001b[0m                                 Traceback (most recent call last)",
            "\u001b[0;32m<ipython-input-19-6d5660eaccec>\u001b[0m in \u001b[0;36m<cell line: 6>\u001b[0;34m()\u001b[0m\n\u001b[1;32m      4\u001b[0m \u001b[0;34m\u001b[0m\u001b[0m\n\u001b[1;32m      5\u001b[0m \u001b[0mfunc\u001b[0m\u001b[0;34m(\u001b[0m\u001b[0;34m)\u001b[0m\u001b[0;34m\u001b[0m\u001b[0;34m\u001b[0m\u001b[0m\n\u001b[0;32m----> 6\u001b[0;31m \u001b[0mprint\u001b[0m\u001b[0;34m(\u001b[0m\u001b[0mlocal_a\u001b[0m\u001b[0;34m)\u001b[0m    \u001b[0;31m# this will cause error beacuse local_a has local scope within func()\u001b[0m\u001b[0;34m\u001b[0m\u001b[0;34m\u001b[0m\u001b[0m\n\u001b[0m",
            "\u001b[0;31mNameError\u001b[0m: name 'local_a' is not defined"
          ]
        }
      ]
    },
    {
      "cell_type": "markdown",
      "source": [
        "here the variable 'a' can be accessed only inside the function func()"
      ],
      "metadata": {
        "id": "tAw8RoYSaBfP"
      }
    },
    {
      "cell_type": "markdown",
      "source": [
        "*  Variables defined outside functions have global scope. These variables can be accessed from anywhere within the program, including within functions."
      ],
      "metadata": {
        "id": "j8xofYlKa2zZ"
      }
    },
    {
      "cell_type": "code",
      "source": [
        "global_a = 6\n",
        "def func():\n",
        "  print(global_a)\n",
        "\n",
        "func()\n",
        "print(global_a)"
      ],
      "metadata": {
        "colab": {
          "base_uri": "https://localhost:8080/"
        },
        "id": "HPxN9PTyZ7h_",
        "outputId": "0e1d8597-1143-47fc-892d-1f42a686693e"
      },
      "execution_count": null,
      "outputs": [
        {
          "output_type": "stream",
          "name": "stdout",
          "text": [
            "6\n",
            "6\n"
          ]
        }
      ]
    },
    {
      "cell_type": "markdown",
      "source": [
        "**6. How can you use the \"return\" statement in a Python function to return multiple values?**"
      ],
      "metadata": {
        "id": "x3Umtc7roUp3"
      }
    },
    {
      "cell_type": "code",
      "source": [
        "def calculate(a, b):\n",
        "  sum = a+b\n",
        "  diff = a-b\n",
        "  return sum, diff"
      ],
      "metadata": {
        "id": "m6k2JaenodKC"
      },
      "execution_count": null,
      "outputs": []
    },
    {
      "cell_type": "code",
      "source": [
        "c1 = calculate(20, 10)\n",
        "print(c1)\n",
        "print(f\"Sum of the numbers is {c1[0]}\")\n",
        "print(f\"Difference of the numbers is {c1[1]}\")"
      ],
      "metadata": {
        "colab": {
          "base_uri": "https://localhost:8080/"
        },
        "id": "w-MhB0XHbU9C",
        "outputId": "c503d2af-788e-4889-9afd-b06fc8ee6b1c"
      },
      "execution_count": null,
      "outputs": [
        {
          "output_type": "stream",
          "name": "stdout",
          "text": [
            "(30, 10)\n",
            "Sum of the numbers is 30\n",
            "Difference of the numbers is 10\n"
          ]
        }
      ]
    },
    {
      "cell_type": "markdown",
      "source": [
        "**7. What is the difference between the \"pass by value\" and \"pass by reference\" concepts when it\n",
        "comes to function arguments in Python?**"
      ],
      "metadata": {
        "id": "Na_Wb0GAoeHw"
      }
    },
    {
      "cell_type": "markdown",
      "source": [
        "In pass by value we pass a copy of actual variables in function as a parameter. Hence any modification on parameters inside the function will not reflect in the actual variable."
      ],
      "metadata": {
        "id": "4ZazzOoOhyou"
      }
    },
    {
      "cell_type": "code",
      "source": [
        "def modify_value(value):\n",
        "    value += 10\n",
        "    print(\"Inside the function:\", value)\n",
        "\n",
        "v = 10\n",
        "print(\"Before function call:\", v)\n",
        "modify_value(v)\n",
        "print(\"After function call:\", v)\n"
      ],
      "metadata": {
        "colab": {
          "base_uri": "https://localhost:8080/"
        },
        "id": "716nw2Bsh3gP",
        "outputId": "875faf9a-0680-4b6b-d40b-a0a291766cf0"
      },
      "execution_count": 13,
      "outputs": [
        {
          "output_type": "stream",
          "name": "stdout",
          "text": [
            "Before function call: 10\n",
            "Inside the function: 20\n",
            "After function call: 10\n"
          ]
        }
      ]
    },
    {
      "cell_type": "markdown",
      "source": [
        "Pass by reference means that you have to pass the function(reference) to a variable which refers that the variable already exists in memory."
      ],
      "metadata": {
        "id": "BGIUk9L5fKB9"
      }
    },
    {
      "cell_type": "code",
      "source": [
        "def pass_by_ref(l):\n",
        "  for i in l:\n",
        "    if l.index(i) == len(l)-1:\n",
        "      print(i)\n",
        "    else:\n",
        "      print(i,end=' | ')\n",
        "\n",
        "numbers = [1, 2, 3, 4, 5, 6]\n",
        "pass_by_ref(numbers)"
      ],
      "metadata": {
        "id": "KU_6zu52omj3",
        "colab": {
          "base_uri": "https://localhost:8080/"
        },
        "outputId": "4cec1cb7-c0f0-4a2d-89bf-65f55a23f567"
      },
      "execution_count": 12,
      "outputs": [
        {
          "output_type": "stream",
          "name": "stdout",
          "text": [
            "1 | 2 | 3 | 4 | 5 | 6\n"
          ]
        }
      ]
    },
    {
      "cell_type": "markdown",
      "source": [
        "In the above code both 'l' and 'numbers' are the same container variable and therefore refer to the exact same object in the memory"
      ],
      "metadata": {
        "id": "KszR20IMhctV"
      }
    },
    {
      "cell_type": "markdown",
      "source": [
        "**8. Create a function that can intake integer or decimal value and do following operations:**\n",
        "\n",
        "**a. Logarithmic function (log x)**\n",
        "\n",
        "**b. Exponential function (exp(x))**\n",
        "\n",
        "**c. Power function with base 2 (2x)**\n",
        "\n",
        "**d. Square root**"
      ],
      "metadata": {
        "id": "4-EwPip0onuW"
      }
    },
    {
      "cell_type": "code",
      "source": [
        "import math"
      ],
      "metadata": {
        "id": "Vn8xC3flp2aZ"
      },
      "execution_count": null,
      "outputs": []
    },
    {
      "cell_type": "code",
      "source": [
        "def math_op(x):\n",
        "  log_x = math.log(x)\n",
        "  exp_x = math.exp(x)\n",
        "  pow_x = math.pow(2, x)\n",
        "  square_root = math.sqrt(x)\n",
        "  return log_x, exp_x, pow_x, square_root"
      ],
      "metadata": {
        "id": "Cmmx8ysLovtM"
      },
      "execution_count": null,
      "outputs": []
    },
    {
      "cell_type": "code",
      "source": [
        "n = float(input(\"Enter a number: \"))\n",
        "r = math_op(n)\n",
        "print(r)"
      ],
      "metadata": {
        "colab": {
          "base_uri": "https://localhost:8080/"
        },
        "id": "5N100f11qoQ0",
        "outputId": "dcd464f1-86b1-4624-eedd-86d4d5badffa"
      },
      "execution_count": null,
      "outputs": [
        {
          "output_type": "stream",
          "name": "stdout",
          "text": [
            "Enter a number: 16\n",
            "(2.772588722239781, 8886110.520507872, 65536.0, 4.0)\n"
          ]
        }
      ]
    },
    {
      "cell_type": "markdown",
      "source": [
        "**9.  Create a function that takes a full name as an argument and returns first name and last name.**"
      ],
      "metadata": {
        "id": "2mZEWRNWpDOB"
      }
    },
    {
      "cell_type": "code",
      "source": [
        "def name_function(n):\n",
        "  name = n.split()\n",
        "  return name\n",
        "\n",
        "n = input(\"Enter your full name: \")\n",
        "name = name_function(n)\n",
        "print(f\"First name is {name[0]}\\nLast name is {name[len(name)-1]}\")"
      ],
      "metadata": {
        "id": "_pXWzAGkpG3S",
        "colab": {
          "base_uri": "https://localhost:8080/"
        },
        "outputId": "1a1b4d85-05c7-42be-fbe5-bc509dfd2f10"
      },
      "execution_count": null,
      "outputs": [
        {
          "output_type": "stream",
          "name": "stdout",
          "text": [
            "Enter your full name: Anush R Amin\n",
            "First name is Anush\n",
            "Last name is Amin\n"
          ]
        }
      ]
    },
    {
      "cell_type": "code",
      "source": [],
      "metadata": {
        "id": "hKPQQqZ1d5Wk"
      },
      "execution_count": null,
      "outputs": []
    }
  ]
}