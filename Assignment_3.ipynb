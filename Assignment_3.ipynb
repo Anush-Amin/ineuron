{
  "nbformat": 4,
  "nbformat_minor": 0,
  "metadata": {
    "colab": {
      "provenance": [],
      "authorship_tag": "ABX9TyPpB9JGv3DKoUcX+WBvwkAz",
      "include_colab_link": true
    },
    "kernelspec": {
      "name": "python3",
      "display_name": "Python 3"
    },
    "language_info": {
      "name": "python"
    }
  },
  "cells": [
    {
      "cell_type": "markdown",
      "metadata": {
        "id": "view-in-github",
        "colab_type": "text"
      },
      "source": [
        "<a href=\"https://colab.research.google.com/github/Anush-Amin/ineuron/blob/main/Assignment_3.ipynb\" target=\"_parent\"><img src=\"https://colab.research.google.com/assets/colab-badge.svg\" alt=\"Open In Colab\"/></a>"
      ]
    },
    {
      "cell_type": "markdown",
      "source": [
        "**1. Why are functions advantageous to have in your programs?**"
      ],
      "metadata": {
        "id": "s7qh7YaHETez"
      }
    },
    {
      "cell_type": "markdown",
      "source": [
        "1. Using functions in the program make a block of code reusable\n",
        "\n",
        "2. Functions make program more readable\n",
        "\n",
        "3. Modularity can be maintained in code by using functions that is large code can be broken down into smaller blocks\n",
        "\n",
        "4. Debugging is made easy with functions\n",
        "\n",
        "5. Maintaining and modifying the code is easy because changes need to be made only in particular function based on requirement and no need to worry about rest of the code\n",
        "\n",
        "6. Abstraction is achieved with the help of functions. Programmer must just worry about what functions does than how it does"
      ],
      "metadata": {
        "id": "1tEgGqONEbzz"
      }
    },
    {
      "cell_type": "markdown",
      "source": [
        "**2. When does the code in a function run: when it's specified or when it's called?**"
      ],
      "metadata": {
        "id": "-DRCVxnZErJw"
      }
    },
    {
      "cell_type": "markdown",
      "source": [
        "The code in a function runs only when it's called."
      ],
      "metadata": {
        "id": "iJ7ySdm0EvYc"
      }
    },
    {
      "cell_type": "markdown",
      "source": [
        "**3. What statement creates a function?**"
      ],
      "metadata": {
        "id": "lhr6HPNBEzsj"
      }
    },
    {
      "cell_type": "markdown",
      "source": [
        "'def' keyword is used to create a function followed by function_name. Functions take parameters which can be used in code inside function."
      ],
      "metadata": {
        "id": "SSPfNCf3E8Yw"
      }
    },
    {
      "cell_type": "code",
      "source": [
        "def function_name(number):\n",
        "  print(f'This is my function number {number}')\n",
        "function_name('one')"
      ],
      "metadata": {
        "colab": {
          "base_uri": "https://localhost:8080/"
        },
        "id": "-UlqgT4zFCLB",
        "outputId": "350d7df4-be0f-4c81-da0f-7e511d82f3f3"
      },
      "execution_count": null,
      "outputs": [
        {
          "output_type": "stream",
          "name": "stdout",
          "text": [
            "This is my function number one\n"
          ]
        }
      ]
    },
    {
      "cell_type": "markdown",
      "source": [
        "**4. What is the difference between a function and a function call?**"
      ],
      "metadata": {
        "id": "Z8lMbya-FdBe"
      }
    },
    {
      "cell_type": "markdown",
      "source": [
        "'def' keyword is used to define a function which contains a block of code. The def keyword is followed by a function name and contains a parameter which is optional. The function makes the piece of code reusable. Defining just a function doesn't execute the code.\n",
        "\n",
        "Function call is used to execute the code written inside the function. The function call contains the function name and arguments inside parenthesis (if parameters are used in function). The function call needs to be printed if function has return statement instead of print statement. The function call can be assigned to variable as well."
      ],
      "metadata": {
        "id": "yJUoDcq7FkQX"
      }
    },
    {
      "cell_type": "code",
      "source": [
        "def function_name():\n",
        "  \"\"\"This is a function which return a string\"\"\"\n",
        "  return(\"This is a function\")\n",
        "# print is used for function call\n",
        "print(function_name())"
      ],
      "metadata": {
        "colab": {
          "base_uri": "https://localhost:8080/"
        },
        "id": "2G_4V8w8FBfB",
        "outputId": "7ed18c35-f0f4-4dc0-fbeb-8d5248b09c58"
      },
      "execution_count": null,
      "outputs": [
        {
          "output_type": "stream",
          "name": "stdout",
          "text": [
            "This is a function\n"
          ]
        }
      ]
    },
    {
      "cell_type": "markdown",
      "source": [
        "**5. How many global scopes are there in a Python program? How many local scopes?**"
      ],
      "metadata": {
        "id": "fPkF8iJYFzH-"
      }
    },
    {
      "cell_type": "markdown",
      "source": [
        "Global scope is created when any variable or function written outside the function or class. The variable or function which has global scope can be accessed throughout the program.\n",
        "\n",
        "Local scope is created when any variable or function is written inside the function or class. These variable and function can be accessed within the specific scope."
      ],
      "metadata": {
        "id": "8W_B5S_Q7tzq"
      }
    },
    {
      "cell_type": "code",
      "source": [
        "# Global scope\n",
        "## The below variable can be accessed within any class and functions hence it\n",
        "## has global scope\n",
        "global_scope_variable = 10\n",
        "class class_1:\n",
        "  print(f'The variable {global_scope_variable} is printed inside class_1')\n",
        "  def function1(self):\n",
        "    print(f'The variable {global_scope_variable} is printed inside function1')\n",
        "  def function2(self):\n",
        "    print(f'The variable {global_scope_variable} is printed inside function2')\n",
        "\n",
        "class class_2:\n",
        "  print(f'The variable {global_scope_variable} is printed inside class_2')\n",
        "\n",
        "obj1 = class_1()\n",
        "obj1.function1()\n",
        "obj1.function2()\n",
        "\n",
        "obj2 = class_2()"
      ],
      "metadata": {
        "id": "FNKOarTtFuKJ",
        "colab": {
          "base_uri": "https://localhost:8080/"
        },
        "outputId": "7cb8aba6-a834-4783-ddf0-36d007fd0b54"
      },
      "execution_count": 15,
      "outputs": [
        {
          "output_type": "stream",
          "name": "stdout",
          "text": [
            "The variable 10 is printed inside class_1\n",
            "The variable 10 is printed inside class_2\n",
            "The variable 10 is printed inside function1\n",
            "The variable 10 is printed inside function2\n"
          ]
        }
      ]
    },
    {
      "cell_type": "code",
      "source": [
        "# local scope\n",
        "## The below variable can be accessed within any class_1 and its functions\n",
        "## It cannot be accessed in class_2 since local_scope_class1 variable has local\n",
        "## scope in class_1\n",
        "\n",
        "class class_1:\n",
        "  local_scope_class1 = 10\n",
        "  print(f'The variable {local_scope_class1} is printed inside class_1')\n",
        "  def function1(self):\n",
        "    print(f'The variable {self.local_scope_class1} is printed inside function1')\n",
        "  def function2(self):\n",
        "    print(f'The variable {self.local_scope_class1} is printed inside function2')\n",
        "\n",
        "class class_2:\n",
        "  print(f'The variable {local_scope_class1} is printed inside class_2')\n",
        "\n",
        "obj1 = class_1()\n",
        "obj1.function1()\n",
        "obj1.function2()\n",
        "\n",
        "obj2 = class_2()"
      ],
      "metadata": {
        "colab": {
          "base_uri": "https://localhost:8080/",
          "height": 373
        },
        "id": "ejiQyqyU-deJ",
        "outputId": "b85b2042-4ac5-4ee0-851c-25de3ecc8b08"
      },
      "execution_count": 19,
      "outputs": [
        {
          "output_type": "stream",
          "name": "stdout",
          "text": [
            "The variable 10 is printed inside class_1\n"
          ]
        },
        {
          "output_type": "error",
          "ename": "NameError",
          "evalue": "ignored",
          "traceback": [
            "\u001b[0;31m---------------------------------------------------------------------------\u001b[0m",
            "\u001b[0;31mNameError\u001b[0m                                 Traceback (most recent call last)",
            "\u001b[0;32m<ipython-input-19-f024ed92d3a4>\u001b[0m in \u001b[0;36m<cell line: 14>\u001b[0;34m()\u001b[0m\n\u001b[1;32m     12\u001b[0m     \u001b[0mprint\u001b[0m\u001b[0;34m(\u001b[0m\u001b[0;34mf'The variable {self.local_scope_class1} is printed inside function2'\u001b[0m\u001b[0;34m)\u001b[0m\u001b[0;34m\u001b[0m\u001b[0;34m\u001b[0m\u001b[0m\n\u001b[1;32m     13\u001b[0m \u001b[0;34m\u001b[0m\u001b[0m\n\u001b[0;32m---> 14\u001b[0;31m \u001b[0;32mclass\u001b[0m \u001b[0mclass_2\u001b[0m\u001b[0;34m:\u001b[0m\u001b[0;34m\u001b[0m\u001b[0;34m\u001b[0m\u001b[0m\n\u001b[0m\u001b[1;32m     15\u001b[0m   \u001b[0mprint\u001b[0m\u001b[0;34m(\u001b[0m\u001b[0;34mf'The variable {local_scope_class1} is printed inside class_2'\u001b[0m\u001b[0;34m)\u001b[0m\u001b[0;34m\u001b[0m\u001b[0;34m\u001b[0m\u001b[0m\n\u001b[1;32m     16\u001b[0m \u001b[0;34m\u001b[0m\u001b[0m\n",
            "\u001b[0;32m<ipython-input-19-f024ed92d3a4>\u001b[0m in \u001b[0;36mclass_2\u001b[0;34m()\u001b[0m\n\u001b[1;32m     13\u001b[0m \u001b[0;34m\u001b[0m\u001b[0m\n\u001b[1;32m     14\u001b[0m \u001b[0;32mclass\u001b[0m \u001b[0mclass_2\u001b[0m\u001b[0;34m:\u001b[0m\u001b[0;34m\u001b[0m\u001b[0;34m\u001b[0m\u001b[0m\n\u001b[0;32m---> 15\u001b[0;31m   \u001b[0mprint\u001b[0m\u001b[0;34m(\u001b[0m\u001b[0;34mf'The variable {local_scope_class1} is printed inside class_2'\u001b[0m\u001b[0;34m)\u001b[0m\u001b[0;34m\u001b[0m\u001b[0;34m\u001b[0m\u001b[0m\n\u001b[0m\u001b[1;32m     16\u001b[0m \u001b[0;34m\u001b[0m\u001b[0m\n\u001b[1;32m     17\u001b[0m \u001b[0mobj1\u001b[0m \u001b[0;34m=\u001b[0m \u001b[0mclass_1\u001b[0m\u001b[0;34m(\u001b[0m\u001b[0;34m)\u001b[0m\u001b[0;34m\u001b[0m\u001b[0;34m\u001b[0m\u001b[0m\n",
            "\u001b[0;31mNameError\u001b[0m: name 'local_scope_class1' is not defined"
          ]
        }
      ]
    },
    {
      "cell_type": "markdown",
      "source": [
        "**6. What happens to variables in a local scope when the function call returns?**"
      ],
      "metadata": {
        "id": "cClRyrPrF2vO"
      }
    },
    {
      "cell_type": "code",
      "source": [
        "def func():\n",
        "    a = 5\n",
        "    print(a)\n",
        "\n",
        "func()\n",
        "print(a)  # This will raise an error\n"
      ],
      "metadata": {
        "id": "DLCEXOsfF9iI",
        "colab": {
          "base_uri": "https://localhost:8080/",
          "height": 217
        },
        "outputId": "d373628d-14d6-47a0-84cd-2a3b6972660a"
      },
      "execution_count": 20,
      "outputs": [
        {
          "output_type": "stream",
          "name": "stdout",
          "text": [
            "5\n"
          ]
        },
        {
          "output_type": "error",
          "ename": "NameError",
          "evalue": "ignored",
          "traceback": [
            "\u001b[0;31m---------------------------------------------------------------------------\u001b[0m",
            "\u001b[0;31mNameError\u001b[0m                                 Traceback (most recent call last)",
            "\u001b[0;32m<ipython-input-20-6ebda5e0a31c>\u001b[0m in \u001b[0;36m<cell line: 6>\u001b[0;34m()\u001b[0m\n\u001b[1;32m      4\u001b[0m \u001b[0;34m\u001b[0m\u001b[0m\n\u001b[1;32m      5\u001b[0m \u001b[0mfunc\u001b[0m\u001b[0;34m(\u001b[0m\u001b[0;34m)\u001b[0m\u001b[0;34m\u001b[0m\u001b[0;34m\u001b[0m\u001b[0m\n\u001b[0;32m----> 6\u001b[0;31m \u001b[0mprint\u001b[0m\u001b[0;34m(\u001b[0m\u001b[0ma\u001b[0m\u001b[0;34m)\u001b[0m  \u001b[0;31m# This will raise an error\u001b[0m\u001b[0;34m\u001b[0m\u001b[0;34m\u001b[0m\u001b[0m\n\u001b[0m",
            "\u001b[0;31mNameError\u001b[0m: name 'a' is not defined"
          ]
        }
      ]
    },
    {
      "cell_type": "markdown",
      "source": [
        "In the above code the variable defined inside the function 'func' has local scope inside that function. But if this variable is called outside this function it will throw NameError"
      ],
      "metadata": {
        "id": "Ssd9spswBU9j"
      }
    },
    {
      "cell_type": "markdown",
      "source": [
        "**7. What is the concept of a return value? Is it possible to have a return value in an expression?**"
      ],
      "metadata": {
        "id": "yniP_b-wF96g"
      }
    },
    {
      "cell_type": "markdown",
      "source": [
        "The concept of a return value refers to the value that a function or method can provide back to the code that called it. When a function is executed and reaches a return statement, it typically terminates the function's execution and returns a value.\n",
        "\n",
        "Yes, it is possible to return a value in a expression"
      ],
      "metadata": {
        "id": "C3xENdEDCKsZ"
      }
    },
    {
      "cell_type": "code",
      "source": [
        "def add_two_numbers(a, b):\n",
        "  return a+b\n",
        "\n",
        "a = add_two_numbers(2, 3)\n",
        "print(a)\n",
        "\n",
        "print(10+a) # return value used in expressiom"
      ],
      "metadata": {
        "id": "y9oGrLsHGB56",
        "colab": {
          "base_uri": "https://localhost:8080/"
        },
        "outputId": "31663e03-a309-48b0-d837-601cfa8616a6"
      },
      "execution_count": 25,
      "outputs": [
        {
          "output_type": "stream",
          "name": "stdout",
          "text": [
            "5\n",
            "15\n"
          ]
        }
      ]
    },
    {
      "cell_type": "markdown",
      "source": [
        "**8. If a function does not have a return statement, what is the return value of a call to that function?**"
      ],
      "metadata": {
        "id": "JYHDNdmLGCtW"
      }
    },
    {
      "cell_type": "code",
      "source": [
        "def add_two_numbers(a, b):\n",
        "  a+b\n",
        "\n",
        "a = add_two_numbers(2, 3)\n",
        "print(a)\n",
        "print(type(a))"
      ],
      "metadata": {
        "id": "ZEXstCbmGG7k",
        "colab": {
          "base_uri": "https://localhost:8080/"
        },
        "outputId": "ea0a747a-a5df-4983-b708-084df16a1e82"
      },
      "execution_count": 30,
      "outputs": [
        {
          "output_type": "stream",
          "name": "stdout",
          "text": [
            "None\n",
            "<class 'NoneType'>\n"
          ]
        }
      ]
    },
    {
      "cell_type": "markdown",
      "source": [
        "If the function doesnot have a return statement it will return None when its called."
      ],
      "metadata": {
        "id": "UPgH0wcZOZa1"
      }
    },
    {
      "cell_type": "markdown",
      "source": [
        "**9. How do you make a function variable refer to the global variable?**"
      ],
      "metadata": {
        "id": "FdQ6pFubGHaN"
      }
    },
    {
      "cell_type": "markdown",
      "source": [
        "To make a function variable refer to the global variable, we can use a 'global' keyword"
      ],
      "metadata": {
        "id": "fGEqwCPOOtrP"
      }
    },
    {
      "cell_type": "code",
      "source": [
        "count = 0\n",
        "\n",
        "def count_even(l):\n",
        "  global count\n",
        "  for i in l:\n",
        "    if i%2 == 0:\n",
        "      count+=1\n",
        "  return count\n",
        "\n",
        "print(count)   # printing the global scope count\n",
        "\n",
        "l = [1, 2, 3, 4, 5, 6, 7, 8]\n",
        "count_even(l)\n",
        "print(count)   # printing the count after operation inside count_even function"
      ],
      "metadata": {
        "id": "1uwcAbpxGNBY",
        "colab": {
          "base_uri": "https://localhost:8080/"
        },
        "outputId": "329ff9c3-3432-48a1-b760-af47ec5e695a"
      },
      "execution_count": 36,
      "outputs": [
        {
          "output_type": "stream",
          "name": "stdout",
          "text": [
            "0\n",
            "4\n"
          ]
        }
      ]
    },
    {
      "cell_type": "markdown",
      "source": [
        "**10. What is the data type of None?**"
      ],
      "metadata": {
        "id": "HHk9fyimGNcJ"
      }
    },
    {
      "cell_type": "code",
      "source": [
        "print(type(None))"
      ],
      "metadata": {
        "id": "bY-C1PjzGRnx",
        "colab": {
          "base_uri": "https://localhost:8080/"
        },
        "outputId": "40fb1963-7d02-478f-8949-d71408bc21f7"
      },
      "execution_count": 37,
      "outputs": [
        {
          "output_type": "stream",
          "name": "stdout",
          "text": [
            "<class 'NoneType'>\n"
          ]
        }
      ]
    },
    {
      "cell_type": "markdown",
      "source": [
        "The data type of None is NoneType"
      ],
      "metadata": {
        "id": "FnHuxpiRQSmI"
      }
    },
    {
      "cell_type": "markdown",
      "source": [
        "**11. What does the sentence import areallyourpetsnamederic do?**"
      ],
      "metadata": {
        "id": "23LNlu9TGSFu"
      }
    },
    {
      "cell_type": "markdown",
      "source": [
        "The sentence import areallyourpetsnamederic will import the library areallyourpetsnamederic if exist. If it doesnot exist it will throw ModuleNotFoundError"
      ],
      "metadata": {
        "id": "fBn-K3qyQink"
      }
    },
    {
      "cell_type": "code",
      "source": [
        "import areallyourpetsnamederic"
      ],
      "metadata": {
        "id": "c9LRZCkwGWOx",
        "colab": {
          "base_uri": "https://localhost:8080/",
          "height": 304
        },
        "outputId": "d7ed7ee7-485e-4b09-95b4-f71f308ee7be"
      },
      "execution_count": 38,
      "outputs": [
        {
          "output_type": "error",
          "ename": "ModuleNotFoundError",
          "evalue": "ignored",
          "traceback": [
            "\u001b[0;31m---------------------------------------------------------------------------\u001b[0m",
            "\u001b[0;31mModuleNotFoundError\u001b[0m                       Traceback (most recent call last)",
            "\u001b[0;32m<ipython-input-38-b1ea9cb2228f>\u001b[0m in \u001b[0;36m<cell line: 1>\u001b[0;34m()\u001b[0m\n\u001b[0;32m----> 1\u001b[0;31m \u001b[0;32mimport\u001b[0m \u001b[0mareallyourpetsnamederic\u001b[0m\u001b[0;34m\u001b[0m\u001b[0;34m\u001b[0m\u001b[0m\n\u001b[0m",
            "\u001b[0;31mModuleNotFoundError\u001b[0m: No module named 'areallyourpetsnamederic'",
            "",
            "\u001b[0;31m---------------------------------------------------------------------------\u001b[0;32m\nNOTE: If your import is failing due to a missing package, you can\nmanually install dependencies using either !pip or !apt.\n\nTo view examples of installing some common dependencies, click the\n\"Open Examples\" button below.\n\u001b[0;31m---------------------------------------------------------------------------\u001b[0m\n"
          ],
          "errorDetails": {
            "actions": [
              {
                "action": "open_url",
                "actionText": "Open Examples",
                "url": "/notebooks/snippets/importing_libraries.ipynb"
              }
            ]
          }
        }
      ]
    },
    {
      "cell_type": "markdown",
      "source": [
        "Once the library is imported we can use the module present inside that library in our program"
      ],
      "metadata": {
        "id": "z4UnMzHTRYqO"
      }
    },
    {
      "cell_type": "markdown",
      "source": [
        "**12. If you had a bacon() feature in a spam module, what would you call it after importing spam?**"
      ],
      "metadata": {
        "id": "VJgsDq31GW3b"
      }
    },
    {
      "cell_type": "markdown",
      "source": [
        "After importing the spam library we can call the bacon() feature using:\n",
        "\n",
        "import spam\n",
        "\n",
        "spam.bacon()"
      ],
      "metadata": {
        "id": "sRUb6C8tRxSJ"
      }
    },
    {
      "cell_type": "markdown",
      "source": [
        "**13. What can you do to save a programme from crashing if it encounters an error?**"
      ],
      "metadata": {
        "id": "O1GNWBPrGbXv"
      }
    },
    {
      "cell_type": "markdown",
      "source": [
        "In Python, we can use the try-except statement to catch and handle exceptions which will prevent the programme from crashing when it encounters an error."
      ],
      "metadata": {
        "id": "RJxSNvvDSbU5"
      }
    },
    {
      "cell_type": "code",
      "source": [
        "print(10/0)"
      ],
      "metadata": {
        "id": "6GSS4kqQGfCi",
        "colab": {
          "base_uri": "https://localhost:8080/",
          "height": 165
        },
        "outputId": "57a306cc-30c7-4955-a02e-fbcbc2631eb2"
      },
      "execution_count": 40,
      "outputs": [
        {
          "output_type": "error",
          "ename": "ZeroDivisionError",
          "evalue": "ignored",
          "traceback": [
            "\u001b[0;31m---------------------------------------------------------------------------\u001b[0m",
            "\u001b[0;31mZeroDivisionError\u001b[0m                         Traceback (most recent call last)",
            "\u001b[0;32m<ipython-input-40-fe01563e1bc6>\u001b[0m in \u001b[0;36m<cell line: 1>\u001b[0;34m()\u001b[0m\n\u001b[0;32m----> 1\u001b[0;31m \u001b[0mprint\u001b[0m\u001b[0;34m(\u001b[0m\u001b[0;36m10\u001b[0m\u001b[0;34m/\u001b[0m\u001b[0;36m0\u001b[0m\u001b[0;34m)\u001b[0m\u001b[0;34m\u001b[0m\u001b[0;34m\u001b[0m\u001b[0m\n\u001b[0m",
            "\u001b[0;31mZeroDivisionError\u001b[0m: division by zero"
          ]
        }
      ]
    },
    {
      "cell_type": "code",
      "source": [
        "try:\n",
        "  print(10/0)\n",
        "except:\n",
        "  print(\"A number cannot be divided by zero\")"
      ],
      "metadata": {
        "colab": {
          "base_uri": "https://localhost:8080/"
        },
        "id": "dQMpB0DISwHt",
        "outputId": "41112e87-34a5-415a-90ae-55e14ad579f1"
      },
      "execution_count": 41,
      "outputs": [
        {
          "output_type": "stream",
          "name": "stdout",
          "text": [
            "A number cannot be divided by zero\n"
          ]
        }
      ]
    },
    {
      "cell_type": "markdown",
      "source": [
        "**14. What is the purpose of the try clause? What is the purpose of the except clause?**"
      ],
      "metadata": {
        "id": "zjJpQRejGfoR"
      }
    },
    {
      "cell_type": "markdown",
      "source": [
        "The purpose of the try clause is to enclose the block of code that may raise an exception. If an exception occurs within the try block, the program immediately exits the try block and jumps to the corresponding except block.\n",
        "\n",
        "The purpose of the except clause is to define the code that should be executed when a specific exception occurs within the preceding try block."
      ],
      "metadata": {
        "id": "x-6VJuvXTFEr"
      }
    },
    {
      "cell_type": "code",
      "source": [
        "def divide_numbers(dividend, divisors):\n",
        "  \"\"\"\n",
        "  This function is used to divide a single number with a divisors given in list\"\"\"\n",
        "  for i in divisors:\n",
        "    try:\n",
        "      print(f'{dividend} divided by {i} gives {dividend/i}')\n",
        "    except:\n",
        "      print(\"A number cannot be divided by zero\")\n",
        "\n",
        "l = [10, 9, 8, 3, 2, 1, 0]\n",
        "divide_numbers(100, l)"
      ],
      "metadata": {
        "id": "JjlCpZ23Gj1I",
        "colab": {
          "base_uri": "https://localhost:8080/"
        },
        "outputId": "1847b88c-4547-40c7-a3bb-a1e693c0e8a1"
      },
      "execution_count": 45,
      "outputs": [
        {
          "output_type": "stream",
          "name": "stdout",
          "text": [
            "100 divided by 10 gives 10.0\n",
            "100 divided by 9 gives 11.11111111111111\n",
            "100 divided by 8 gives 12.5\n",
            "100 divided by 3 gives 33.333333333333336\n",
            "100 divided by 2 gives 50.0\n",
            "100 divided by 1 gives 100.0\n",
            "A number cannot be divided by zero\n"
          ]
        }
      ]
    },
    {
      "cell_type": "code",
      "source": [],
      "metadata": {
        "id": "s1j5HNm4UcMt"
      },
      "execution_count": null,
      "outputs": []
    }
  ]
}