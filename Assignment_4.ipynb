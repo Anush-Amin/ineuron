{
  "nbformat": 4,
  "nbformat_minor": 0,
  "metadata": {
    "colab": {
      "provenance": [],
      "authorship_tag": "ABX9TyN6/t8fWHrTAy0W1xXrxyeE",
      "include_colab_link": true
    },
    "kernelspec": {
      "name": "python3",
      "display_name": "Python 3"
    },
    "language_info": {
      "name": "python"
    }
  },
  "cells": [
    {
      "cell_type": "markdown",
      "metadata": {
        "id": "view-in-github",
        "colab_type": "text"
      },
      "source": [
        "<a href=\"https://colab.research.google.com/github/Anush-Amin/ineuron/blob/main/Assignment_4.ipynb\" target=\"_parent\"><img src=\"https://colab.research.google.com/assets/colab-badge.svg\" alt=\"Open In Colab\"/></a>"
      ]
    },
    {
      "cell_type": "markdown",
      "source": [
        "**1. What exactly is []?**"
      ],
      "metadata": {
        "id": "YEmgpMQVCFv-"
      }
    },
    {
      "cell_type": "markdown",
      "source": [
        "The [] represents an empty list"
      ],
      "metadata": {
        "id": "w1bz9ZxZkebS"
      }
    },
    {
      "cell_type": "code",
      "source": [
        "l = []\n",
        "type(l)"
      ],
      "metadata": {
        "id": "V1WxFM4cCMLa",
        "colab": {
          "base_uri": "https://localhost:8080/"
        },
        "outputId": "503f1573-9e82-406e-9890-5d4a5e51935c"
      },
      "execution_count": null,
      "outputs": [
        {
          "output_type": "execute_result",
          "data": {
            "text/plain": [
              "list"
            ]
          },
          "metadata": {},
          "execution_count": 1
        }
      ]
    },
    {
      "cell_type": "markdown",
      "source": [
        "**2. In a list of values stored in a variable called spam, how would you assign the value 'hello' as the third value? (Assume [2, 4, 6, 8, 10] are in spam.)**"
      ],
      "metadata": {
        "id": "QdlXdkftCNfQ"
      }
    },
    {
      "cell_type": "code",
      "source": [
        "spam = [2,4,6,8,10]\n",
        "spam[2] = 'hello'\n",
        "print(spam)"
      ],
      "metadata": {
        "id": "IiKb90vkCTML",
        "colab": {
          "base_uri": "https://localhost:8080/"
        },
        "outputId": "28ae7555-ba56-44bb-9abe-d35950dfc0eb"
      },
      "execution_count": null,
      "outputs": [
        {
          "output_type": "stream",
          "name": "stdout",
          "text": [
            "[2, 4, 'hello', 8, 10]\n"
          ]
        }
      ]
    },
    {
      "cell_type": "markdown",
      "source": [
        "The indexing starts from 0. Hence third element will have 2 as index value"
      ],
      "metadata": {
        "id": "6AE1vDY-lp9o"
      }
    },
    {
      "cell_type": "markdown",
      "source": [
        "**Let's pretend the spam includes the list ['a', 'b', 'c', 'd'] for the next three queries.**"
      ],
      "metadata": {
        "id": "afvsUjUhCVdr"
      }
    },
    {
      "cell_type": "code",
      "source": [
        "spam = ['a', 'b', 'c', 'd']"
      ],
      "metadata": {
        "id": "r3vs18Kbl2fQ"
      },
      "execution_count": null,
      "outputs": []
    },
    {
      "cell_type": "markdown",
      "source": [
        "**3. What is the value of spam[int(int('3' * 2) / 11)]?**"
      ],
      "metadata": {
        "id": "GVJ_g3vQCZ4B"
      }
    },
    {
      "cell_type": "markdown",
      "source": [
        "I will break down the expression to see the values individually"
      ],
      "metadata": {
        "id": "K96w6B6xmCWL"
      }
    },
    {
      "cell_type": "code",
      "source": [
        "a1 = '3' * 2\n",
        "a1"
      ],
      "metadata": {
        "id": "zQyaue4DCjyv",
        "colab": {
          "base_uri": "https://localhost:8080/",
          "height": 36
        },
        "outputId": "86bf6bf5-8734-4392-f562-202ff47676cf"
      },
      "execution_count": null,
      "outputs": [
        {
          "output_type": "execute_result",
          "data": {
            "text/plain": [
              "'33'"
            ],
            "application/vnd.google.colaboratory.intrinsic+json": {
              "type": "string"
            }
          },
          "metadata": {},
          "execution_count": 7
        }
      ]
    },
    {
      "cell_type": "code",
      "source": [
        "a2 = int(a1)/11\n",
        "a2"
      ],
      "metadata": {
        "colab": {
          "base_uri": "https://localhost:8080/"
        },
        "id": "bhzBw1a4mSlP",
        "outputId": "1a7b5704-5f4d-43d3-dccd-2b063abeb418"
      },
      "execution_count": null,
      "outputs": [
        {
          "output_type": "execute_result",
          "data": {
            "text/plain": [
              "3.0"
            ]
          },
          "metadata": {},
          "execution_count": 10
        }
      ]
    },
    {
      "cell_type": "code",
      "source": [
        "a3 = int(a2)\n",
        "a3"
      ],
      "metadata": {
        "colab": {
          "base_uri": "https://localhost:8080/"
        },
        "id": "8CrZ-vZHmcnZ",
        "outputId": "b9c01900-c97e-4001-89df-5cab4d60668c"
      },
      "execution_count": null,
      "outputs": [
        {
          "output_type": "execute_result",
          "data": {
            "text/plain": [
              "3"
            ]
          },
          "metadata": {},
          "execution_count": 12
        }
      ]
    },
    {
      "cell_type": "code",
      "source": [
        "spam[a3]"
      ],
      "metadata": {
        "colab": {
          "base_uri": "https://localhost:8080/",
          "height": 36
        },
        "id": "xA21tqljmg5g",
        "outputId": "b1e61fc3-df77-4339-c1a6-d74317894014"
      },
      "execution_count": null,
      "outputs": [
        {
          "output_type": "execute_result",
          "data": {
            "text/plain": [
              "'d'"
            ],
            "application/vnd.google.colaboratory.intrinsic+json": {
              "type": "string"
            }
          },
          "metadata": {},
          "execution_count": 13
        }
      ]
    },
    {
      "cell_type": "markdown",
      "source": [
        "**4. What is the value of spam[-1]?**"
      ],
      "metadata": {
        "id": "LaFJA6OMCkt7"
      }
    },
    {
      "cell_type": "code",
      "source": [
        "spam[-1]"
      ],
      "metadata": {
        "id": "u9Ro0e8hCpXI",
        "colab": {
          "base_uri": "https://localhost:8080/",
          "height": 36
        },
        "outputId": "6ce3c9f5-f2ba-41b5-dc73-05ff2423f6b5"
      },
      "execution_count": null,
      "outputs": [
        {
          "output_type": "execute_result",
          "data": {
            "text/plain": [
              "'d'"
            ],
            "application/vnd.google.colaboratory.intrinsic+json": {
              "type": "string"
            }
          },
          "metadata": {},
          "execution_count": 15
        }
      ]
    },
    {
      "cell_type": "markdown",
      "source": [
        "The indexing in forward order starts from 0. For indexing in reverse order index value starts from -1."
      ],
      "metadata": {
        "id": "z8VutCqDmwjS"
      }
    },
    {
      "cell_type": "markdown",
      "source": [
        "**5. What is the value of spam[:2]?**"
      ],
      "metadata": {
        "id": "Bfo1FJAqCrg0"
      }
    },
    {
      "cell_type": "code",
      "source": [
        "spam[:2]"
      ],
      "metadata": {
        "id": "oPmEJnNpCv0k",
        "colab": {
          "base_uri": "https://localhost:8080/"
        },
        "outputId": "2470c2c7-c1e0-47d8-ea87-20a599f758f1"
      },
      "execution_count": null,
      "outputs": [
        {
          "output_type": "execute_result",
          "data": {
            "text/plain": [
              "['a', 'b']"
            ]
          },
          "metadata": {},
          "execution_count": 16
        }
      ]
    },
    {
      "cell_type": "markdown",
      "source": [
        "This performs the list slicing from first element which is at index 0 till value at 2 index excluding that value."
      ],
      "metadata": {
        "id": "bAV3GxkenO64"
      }
    },
    {
      "cell_type": "markdown",
      "source": [
        "**Let's pretend bacon has the list [3.14, 'cat,' 11, 'cat,' True] for the next three questions.**"
      ],
      "metadata": {
        "id": "84gwE67qCwif"
      }
    },
    {
      "cell_type": "code",
      "source": [
        "bacon = [3.14, 'cat', 11, 'cat', True]"
      ],
      "metadata": {
        "id": "6OfBllO6n2Gy"
      },
      "execution_count": null,
      "outputs": []
    },
    {
      "cell_type": "markdown",
      "source": [
        "**6. What is the value of bacon.index('cat')?**"
      ],
      "metadata": {
        "id": "hfqy0kD-C1KO"
      }
    },
    {
      "cell_type": "code",
      "source": [
        "bacon.index('cat')"
      ],
      "metadata": {
        "id": "pDns1w_pC7gm",
        "colab": {
          "base_uri": "https://localhost:8080/"
        },
        "outputId": "fb22ea48-bca0-4630-edd3-884dd818681d"
      },
      "execution_count": null,
      "outputs": [
        {
          "output_type": "execute_result",
          "data": {
            "text/plain": [
              "1"
            ]
          },
          "metadata": {},
          "execution_count": 24
        }
      ]
    },
    {
      "cell_type": "markdown",
      "source": [
        "The above code gives the index value of first appearance of 'cat' in bacon list"
      ],
      "metadata": {
        "id": "p_RXPEVCoEYv"
      }
    },
    {
      "cell_type": "markdown",
      "source": [
        "**7. How does bacon.append(99) change the look of the list value in bacon?**"
      ],
      "metadata": {
        "id": "igNWDeKBC8As"
      }
    },
    {
      "cell_type": "code",
      "source": [
        "bacon.append(99)\n",
        "bacon"
      ],
      "metadata": {
        "id": "vRF8oBiVDBou",
        "colab": {
          "base_uri": "https://localhost:8080/"
        },
        "outputId": "4e268168-9b70-43a2-eff0-8c912401b973"
      },
      "execution_count": null,
      "outputs": [
        {
          "output_type": "execute_result",
          "data": {
            "text/plain": [
              "[3.14, 'cat', 11, 'cat', True, 99]"
            ]
          },
          "metadata": {},
          "execution_count": 25
        }
      ]
    },
    {
      "cell_type": "markdown",
      "source": [
        "append function add the value 99 at the end of the list bacon"
      ],
      "metadata": {
        "id": "bRJQLsF9oZ1i"
      }
    },
    {
      "cell_type": "markdown",
      "source": [
        "**8. How does bacon.remove('cat') change the look of the list in bacon?**"
      ],
      "metadata": {
        "id": "qu2b4MzUDCKf"
      }
    },
    {
      "cell_type": "code",
      "source": [
        "bacon.remove('cat')\n",
        "bacon"
      ],
      "metadata": {
        "id": "I0lMnN9sDGoM",
        "colab": {
          "base_uri": "https://localhost:8080/"
        },
        "outputId": "64579f83-99d4-44a2-e0e5-939d2f5cd47a"
      },
      "execution_count": null,
      "outputs": [
        {
          "output_type": "execute_result",
          "data": {
            "text/plain": [
              "[3.14, 11, 'cat', True, 99]"
            ]
          },
          "metadata": {},
          "execution_count": 26
        }
      ]
    },
    {
      "cell_type": "markdown",
      "source": [
        "remove function removes the first appearance of the element 'cat' in the list bacon"
      ],
      "metadata": {
        "id": "YXRCUiaCo3zf"
      }
    },
    {
      "cell_type": "markdown",
      "source": [
        "**9. What are the list concatenation and list replication operators?**"
      ],
      "metadata": {
        "id": "eTMgcUYLDHI_"
      }
    },
    {
      "cell_type": "markdown",
      "source": [
        "List concatenation is used to combine two or more list. The '+' operator is used for list concatenation."
      ],
      "metadata": {
        "id": "W8QHa_fCpUHM"
      }
    },
    {
      "cell_type": "code",
      "source": [
        "first_list = [1, 2, 3, 'a', 'b', 'c']\n",
        "second_list = [4, 5, 6, 'd', 'e', 'f']\n",
        "print(first_list + second_list)"
      ],
      "metadata": {
        "id": "HjkOvmiaDLiE",
        "colab": {
          "base_uri": "https://localhost:8080/"
        },
        "outputId": "4c5d7710-2526-48bd-de10-e48020e260cd"
      },
      "execution_count": null,
      "outputs": [
        {
          "output_type": "stream",
          "name": "stdout",
          "text": [
            "[1, 2, 3, 'a', 'b', 'c', 4, 5, 6, 'd', 'e', 'f']\n"
          ]
        }
      ]
    },
    {
      "cell_type": "markdown",
      "source": [
        "List replication is used to replicate the list by multipling it with the number of int type. The '*' operator is used for list replication."
      ],
      "metadata": {
        "id": "rpWoxirjqE-V"
      }
    },
    {
      "cell_type": "code",
      "source": [
        "first_list = [1, 2, 3, 'a', 'b', 'c']\n",
        "print(first_list*3)"
      ],
      "metadata": {
        "colab": {
          "base_uri": "https://localhost:8080/"
        },
        "id": "lMjsO-eaqDqZ",
        "outputId": "21bc72de-a29d-4877-f4a1-909279ecaf26"
      },
      "execution_count": null,
      "outputs": [
        {
          "output_type": "stream",
          "name": "stdout",
          "text": [
            "[1, 2, 3, 'a', 'b', 'c', 1, 2, 3, 'a', 'b', 'c', 1, 2, 3, 'a', 'b', 'c']\n"
          ]
        }
      ]
    },
    {
      "cell_type": "markdown",
      "source": [
        "**10. What is difference between the list methods append() and insert()?**"
      ],
      "metadata": {
        "id": "LPgsM-YBDMC6"
      }
    },
    {
      "cell_type": "markdown",
      "source": [
        "apppend() method is used to add the element at the the end of the list"
      ],
      "metadata": {
        "id": "yTK8w3XxrG3Q"
      }
    },
    {
      "cell_type": "code",
      "source": [
        "first_list = [1, 2, 3, 'a', 'b', 'c']"
      ],
      "metadata": {
        "id": "Csr7a5eWDQrj"
      },
      "execution_count": null,
      "outputs": []
    },
    {
      "cell_type": "code",
      "source": [
        "first_list.append(\"Appended element\")\n",
        "first_list"
      ],
      "metadata": {
        "colab": {
          "base_uri": "https://localhost:8080/"
        },
        "id": "qKMkwbqarWWp",
        "outputId": "f45e7298-5152-4855-c7e8-397dba525c35"
      },
      "execution_count": null,
      "outputs": [
        {
          "output_type": "execute_result",
          "data": {
            "text/plain": [
              "[1, 2, 3, 'a', 'b', 'c', 'Appended element']"
            ]
          },
          "metadata": {},
          "execution_count": 32
        }
      ]
    },
    {
      "cell_type": "markdown",
      "source": [
        "insert() method is used to add the element at specific index in the list"
      ],
      "metadata": {
        "id": "hXKkzEWJreoy"
      }
    },
    {
      "cell_type": "code",
      "source": [
        "first_list.insert(1, \"Inserted element\")\n",
        "first_list"
      ],
      "metadata": {
        "colab": {
          "base_uri": "https://localhost:8080/"
        },
        "id": "MaWKLfJrrmMZ",
        "outputId": "2366a2a3-556c-48dd-c98a-fd88ab09d1e9"
      },
      "execution_count": null,
      "outputs": [
        {
          "output_type": "execute_result",
          "data": {
            "text/plain": [
              "[1, 'Inserted element', 2, 3, 'a', 'b', 'c', 'Appended element']"
            ]
          },
          "metadata": {},
          "execution_count": 33
        }
      ]
    },
    {
      "cell_type": "markdown",
      "source": [
        "**11. What are the two methods for removing items from a list?**"
      ],
      "metadata": {
        "id": "P34BbCO-DRMV"
      }
    },
    {
      "cell_type": "markdown",
      "source": [
        "remove() method is used to remove the first appearance of the element in the list"
      ],
      "metadata": {
        "id": "xmumfJTksjqf"
      }
    },
    {
      "cell_type": "code",
      "source": [
        "l1 = [1, 2, 3, 4, 5, 6, 5, 4, 3, 2, 1]"
      ],
      "metadata": {
        "id": "0w6JvwXMDVGQ"
      },
      "execution_count": null,
      "outputs": []
    },
    {
      "cell_type": "code",
      "source": [
        "l1.remove(3)\n",
        "l1"
      ],
      "metadata": {
        "colab": {
          "base_uri": "https://localhost:8080/"
        },
        "id": "HnPJEqWWs32T",
        "outputId": "452f294f-b48d-4793-9a0f-3b7ea427e8e4"
      },
      "execution_count": null,
      "outputs": [
        {
          "output_type": "execute_result",
          "data": {
            "text/plain": [
              "[1, 2, 4, 5, 6, 5, 4, 3, 2, 1]"
            ]
          },
          "metadata": {},
          "execution_count": 42
        }
      ]
    },
    {
      "cell_type": "markdown",
      "source": [
        "pop() method is used to remove an element from a list at a specified index and will return the removed element"
      ],
      "metadata": {
        "id": "p_Gseo21tEHu"
      }
    },
    {
      "cell_type": "code",
      "source": [
        "# To pop element at index 2\n",
        "l1.pop(2)"
      ],
      "metadata": {
        "colab": {
          "base_uri": "https://localhost:8080/"
        },
        "id": "56O-w5bPyhH4",
        "outputId": "a94a0ea7-eb34-4448-b869-e1916c4310de"
      },
      "execution_count": null,
      "outputs": [
        {
          "output_type": "execute_result",
          "data": {
            "text/plain": [
              "4"
            ]
          },
          "metadata": {},
          "execution_count": 43
        }
      ]
    },
    {
      "cell_type": "code",
      "source": [
        "l1"
      ],
      "metadata": {
        "colab": {
          "base_uri": "https://localhost:8080/"
        },
        "id": "uNTYpkzry_M5",
        "outputId": "cdb9b266-18e6-4a15-db81-de2d56aee066"
      },
      "execution_count": null,
      "outputs": [
        {
          "output_type": "execute_result",
          "data": {
            "text/plain": [
              "[1, 2, 5, 6, 5, 4, 3, 2, 1]"
            ]
          },
          "metadata": {},
          "execution_count": 44
        }
      ]
    },
    {
      "cell_type": "code",
      "source": [
        "# if index is not specified it will pop the last element\n",
        "l1.pop()"
      ],
      "metadata": {
        "colab": {
          "base_uri": "https://localhost:8080/"
        },
        "id": "D_YBRznNzB5y",
        "outputId": "bed6baed-cbb8-4fea-a2f8-b69e11d38f17"
      },
      "execution_count": null,
      "outputs": [
        {
          "output_type": "execute_result",
          "data": {
            "text/plain": [
              "1"
            ]
          },
          "metadata": {},
          "execution_count": 46
        }
      ]
    },
    {
      "cell_type": "code",
      "source": [
        "l1"
      ],
      "metadata": {
        "colab": {
          "base_uri": "https://localhost:8080/"
        },
        "id": "Gme7HSfPzQfJ",
        "outputId": "9142a1ed-a382-4bc5-ecdc-61f1075c95c5"
      },
      "execution_count": null,
      "outputs": [
        {
          "output_type": "execute_result",
          "data": {
            "text/plain": [
              "[1, 2, 5, 6, 5, 4, 3, 2]"
            ]
          },
          "metadata": {},
          "execution_count": 47
        }
      ]
    },
    {
      "cell_type": "markdown",
      "source": [
        "**12. Describe how list values and string values are identical.**"
      ],
      "metadata": {
        "id": "k7otVZ4gDVkJ"
      }
    },
    {
      "cell_type": "markdown",
      "source": [
        "1. Indexing: Both lists and strings support indexing which allows you to access individual elements based on their index. You can use square brackets ([]) with an index to retrieve specific elements.\n",
        "\n",
        "\n",
        "\n"
      ],
      "metadata": {
        "id": "0Fr8JnXv2DiS"
      }
    },
    {
      "cell_type": "code",
      "source": [
        "string_example = \"Assignment4\"\n",
        "print(string_example)\n",
        "list_example = list(string_example)\n",
        "print(list_example)"
      ],
      "metadata": {
        "id": "HsTH5dNEDZWZ",
        "colab": {
          "base_uri": "https://localhost:8080/"
        },
        "outputId": "966ae937-eed3-4668-8b6f-9182ccea8e78"
      },
      "execution_count": null,
      "outputs": [
        {
          "output_type": "stream",
          "name": "stdout",
          "text": [
            "Assignment4\n",
            "['A', 's', 's', 'i', 'g', 'n', 'm', 'e', 'n', 't', '4']\n"
          ]
        }
      ]
    },
    {
      "cell_type": "code",
      "source": [
        "print(string_example[0])\n",
        "print(list_example[0])"
      ],
      "metadata": {
        "colab": {
          "base_uri": "https://localhost:8080/"
        },
        "id": "BJlrTatY3Zg4",
        "outputId": "c4c84cab-6515-4b2b-b1a4-81cc0d0eb64f"
      },
      "execution_count": null,
      "outputs": [
        {
          "output_type": "stream",
          "name": "stdout",
          "text": [
            "A\n",
            "A\n"
          ]
        }
      ]
    },
    {
      "cell_type": "markdown",
      "source": [
        "2. Slicing: Both lists and strings support slicing, which allows you to extract slices from the original sequence. Slicing is done using the colon (:) notation."
      ],
      "metadata": {
        "id": "EKsOKTsR2QrZ"
      }
    },
    {
      "cell_type": "code",
      "source": [
        "print(string_example[0:5])\n",
        "print(list_example[0:5])"
      ],
      "metadata": {
        "colab": {
          "base_uri": "https://localhost:8080/"
        },
        "id": "-pDtmx492U_Y",
        "outputId": "79930722-9692-42c9-f8ac-3b78ff399b54"
      },
      "execution_count": null,
      "outputs": [
        {
          "output_type": "stream",
          "name": "stdout",
          "text": [
            "Assig\n",
            "['A', 's', 's', 'i', 'g']\n"
          ]
        }
      ]
    },
    {
      "cell_type": "markdown",
      "source": [
        "3. Iteration: You can iterate over both lists and strings using loops or comprehensions to access each element one by one."
      ],
      "metadata": {
        "id": "EEnSizuj2Vgw"
      }
    },
    {
      "cell_type": "code",
      "source": [
        "# iterating in string\n",
        "for i in string_example:\n",
        "  print(i, end=', ')"
      ],
      "metadata": {
        "colab": {
          "base_uri": "https://localhost:8080/"
        },
        "id": "Frj2NrZ134Qm",
        "outputId": "36beeaed-e61c-4aaa-cd87-32048a32a624"
      },
      "execution_count": null,
      "outputs": [
        {
          "output_type": "stream",
          "name": "stdout",
          "text": [
            "A, s, s, i, g, n, m, e, n, t, 4, "
          ]
        }
      ]
    },
    {
      "cell_type": "code",
      "source": [
        "# iterating in list\n",
        "for i in list_example:\n",
        "  print(i, end=', ')"
      ],
      "metadata": {
        "colab": {
          "base_uri": "https://localhost:8080/"
        },
        "id": "tMZU7jsA5uHD",
        "outputId": "09bd6a87-ecf2-4cea-ce76-b8f85bfa7414"
      },
      "execution_count": null,
      "outputs": [
        {
          "output_type": "stream",
          "name": "stdout",
          "text": [
            "A, s, s, i, g, n, m, e, n, t, 4, "
          ]
        }
      ]
    },
    {
      "cell_type": "markdown",
      "source": [
        "**13. What's the difference between tuples and lists?**"
      ],
      "metadata": {
        "id": "lODHn1zgDaGV"
      }
    },
    {
      "cell_type": "markdown",
      "source": [
        "The elements in the list is given inside the square bracket [], whereas elements in the tuplle os given inside parentheses ().\n",
        "\n",
        "List is mutable which means we can add or remove element from the list, whereas tuple is immutable which means we cannot add or remove elements from the tuple"
      ],
      "metadata": {
        "id": "l7NZRFmp7au9"
      }
    },
    {
      "cell_type": "markdown",
      "source": [
        "**14. How do you type a tuple value that only contains the integer 42?**"
      ],
      "metadata": {
        "id": "xF_63BubDgd3"
      }
    },
    {
      "cell_type": "code",
      "source": [
        "tuple_42 = (42,)\n",
        "print(tuple_42)\n",
        "print(type(tuple_42))"
      ],
      "metadata": {
        "id": "bvyEqr5IDnSk",
        "colab": {
          "base_uri": "https://localhost:8080/"
        },
        "outputId": "60451d07-c09e-4f8c-93cb-7c2ed1d4bc8c"
      },
      "execution_count": null,
      "outputs": [
        {
          "output_type": "stream",
          "name": "stdout",
          "text": [
            "(42,)\n",
            "<class 'tuple'>\n"
          ]
        }
      ]
    },
    {
      "cell_type": "markdown",
      "source": [
        "The 42 is followed by a comma because if we just define tuple_42 = (42) it will not be recognised as tuple rather it will be of type int. Hence comma should be used if we are declaring a tuple with single element"
      ],
      "metadata": {
        "id": "mtNp4RyC8rpt"
      }
    },
    {
      "cell_type": "code",
      "source": [
        "tuple_42_1 = (42)\n",
        "print(type(tuple_42_1))"
      ],
      "metadata": {
        "colab": {
          "base_uri": "https://localhost:8080/"
        },
        "id": "lUX-Hf5u9IId",
        "outputId": "ace3a3d1-f56b-4804-9917-8dcbf431ea56"
      },
      "execution_count": null,
      "outputs": [
        {
          "output_type": "stream",
          "name": "stdout",
          "text": [
            "<class 'int'>\n"
          ]
        }
      ]
    },
    {
      "cell_type": "markdown",
      "source": [
        "**15. How do you get a list value's tuple form? How do you get a tuple value's list form?**"
      ],
      "metadata": {
        "id": "HS2Ti0NpDn2F"
      }
    },
    {
      "cell_type": "markdown",
      "source": [
        "We can get list values tuple form and tuple values list form using type-casting"
      ],
      "metadata": {
        "id": "UcnZMLMN-Bn_"
      }
    },
    {
      "cell_type": "code",
      "source": [
        "# list values tuple form\n",
        "list1 = [1, 2, 3, 'a', 'b', 'c']\n",
        "tuple_of_list1 = tuple(list1)\n",
        "print(tuple_of_list1)"
      ],
      "metadata": {
        "id": "T0BkEgNKDr83",
        "colab": {
          "base_uri": "https://localhost:8080/"
        },
        "outputId": "cd0bf648-6479-4a1a-aec8-cbac0efa7f1e"
      },
      "execution_count": null,
      "outputs": [
        {
          "output_type": "stream",
          "name": "stdout",
          "text": [
            "(1, 2, 3, 'a', 'b', 'c')\n"
          ]
        }
      ]
    },
    {
      "cell_type": "code",
      "source": [
        "# tuple values list form\n",
        "tuple1 = (4, 5, 6, 'd', 'e', 'f')\n",
        "list_of_tuple1 = list(tuple1)\n",
        "print(list_of_tuple1)"
      ],
      "metadata": {
        "colab": {
          "base_uri": "https://localhost:8080/"
        },
        "id": "DMWNuODU-L62",
        "outputId": "3eaa41bb-8755-4f61-cc9a-30a90f8f04d8"
      },
      "execution_count": null,
      "outputs": [
        {
          "output_type": "stream",
          "name": "stdout",
          "text": [
            "[4, 5, 6, 'd', 'e', 'f']\n"
          ]
        }
      ]
    },
    {
      "cell_type": "markdown",
      "source": [
        "**16. Variables that \"contain\" list values are not necessarily lists themselves. Instead, what do they contain?**"
      ],
      "metadata": {
        "id": "T6g-WoXBDsmT"
      }
    },
    {
      "cell_type": "markdown",
      "source": [
        "Didnot understand question"
      ],
      "metadata": {
        "id": "i_uH80CI_dhh"
      }
    },
    {
      "cell_type": "markdown",
      "source": [
        "**17. How do you distinguish between copy.copy() and copy.deepcopy()?**"
      ],
      "metadata": {
        "id": "hpmTLQTjDw66"
      }
    },
    {
      "cell_type": "markdown",
      "source": [
        "copy.copy() creates a shallow copy of original_list. Modifying an element within the copied list affects both the copied list and the original list.\n",
        "\n",
        "copy.deepcopy() creates a deep copy of original_list. Modifying an element within the deep-copied list  only affects the deep-copied list and does not modify the original list.\n"
      ],
      "metadata": {
        "id": "l-bLlQ_EV9EI"
      }
    },
    {
      "cell_type": "code",
      "source": [],
      "metadata": {
        "id": "V3AQBY0laKGy"
      },
      "execution_count": null,
      "outputs": []
    }
  ]
}