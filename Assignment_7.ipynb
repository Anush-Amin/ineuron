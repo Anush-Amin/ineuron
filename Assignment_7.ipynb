{
  "nbformat": 4,
  "nbformat_minor": 0,
  "metadata": {
    "colab": {
      "provenance": [],
      "authorship_tag": "ABX9TyP000mVky89EWN82QHnb/y2",
      "include_colab_link": true
    },
    "kernelspec": {
      "name": "python3",
      "display_name": "Python 3"
    },
    "language_info": {
      "name": "python"
    }
  },
  "cells": [
    {
      "cell_type": "markdown",
      "metadata": {
        "id": "view-in-github",
        "colab_type": "text"
      },
      "source": [
        "<a href=\"https://colab.research.google.com/github/Anush-Amin/ineuron/blob/main/Assignment_7.ipynb\" target=\"_parent\"><img src=\"https://colab.research.google.com/assets/colab-badge.svg\" alt=\"Open In Colab\"/></a>"
      ]
    },
    {
      "cell_type": "markdown",
      "source": [
        "**Q.1. Create two int type variables, apply addition, subtraction, division and multiplications\n",
        "and store the results in variables. Then print the data in the following format by calling the\n",
        "variables:**\n",
        "\n",
        "**First variable is __ & second variable is __.**\n",
        "\n",
        "**Addition: __ + __ = __**\n",
        "\n",
        "**Subtraction: __ - __ = __**\n",
        "\n",
        "**Multiplication: __ * __ = __**\n",
        "\n",
        "**Division: __ / __ = __**"
      ],
      "metadata": {
        "id": "2oi0H_RSDrcn"
      }
    },
    {
      "cell_type": "code",
      "source": [
        "n1 = 10\n",
        "n2 = 20\n",
        "print(f'First variable is {n1} & second variable is {n2}.')\n",
        "print(f'Addition: {n1} + {n2} = {n1+n2}')\n",
        "print(f'Subtraction: {n1} - {n2} = {n1-n2}')\n",
        "print(f'Multiplication: {n1} * {n2} = {n1*n2}')\n",
        "print(f\"Division: {n1} / {n2} = {n1/n2}\")"
      ],
      "metadata": {
        "colab": {
          "base_uri": "https://localhost:8080/"
        },
        "id": "t5iBJFyGERxb",
        "outputId": "c0227dfc-e246-4d69-a06a-fca7b49d3a1a"
      },
      "execution_count": null,
      "outputs": [
        {
          "output_type": "stream",
          "name": "stdout",
          "text": [
            "First variable is 10 & second variable is 20.\n",
            "Addition: 10 + 20 = 30\n",
            "Subtraction: 10 - 20 = -10\n",
            "Multiplication: 10 * 20 = 200\n",
            "Division: 10 / 20 = 0.5\n"
          ]
        }
      ]
    },
    {
      "cell_type": "markdown",
      "source": [
        "**Q.2. What is the difference between the following operators:**\n",
        "\n",
        "**(i) ‘/’ & ‘//’**\n",
        "\n",
        "**(ii) ‘ ** ’ & ‘^’**"
      ],
      "metadata": {
        "id": "qxZdHiclDpBK"
      }
    },
    {
      "cell_type": "markdown",
      "source": [
        "\n",
        "\n",
        "1.   '/' & '//'\n",
        "\n",
        "*   '/' is used for normal division operation and returns output as float even if operands are of int datatype\n",
        "*   '//' is used for floor division operation and returns the nearest smaller integer as output for a given floating point number"
      ],
      "metadata": {
        "id": "iHHOyyhnF6Tl"
      }
    },
    {
      "cell_type": "code",
      "source": [
        "n1 = 10\n",
        "n2 = 20\n",
        "# Division with '/' operator\n",
        "d1 = n1/n2\n",
        "print(f'The d1 value is {d1} and its type is {type(d1)}')\n",
        "\n",
        "# Division with '//' operator\n",
        "d2 = n1//n2\n",
        "print(f'The d2 value is {d2} and its type is {type(d2)}')"
      ],
      "metadata": {
        "colab": {
          "base_uri": "https://localhost:8080/"
        },
        "id": "P-IqQbghFgV4",
        "outputId": "fbaf6987-b3fd-44b0-ed27-e924e6820a9a"
      },
      "execution_count": null,
      "outputs": [
        {
          "output_type": "stream",
          "name": "stdout",
          "text": [
            "The d1 value is 0.5 and its type is <class 'float'>\n",
            "The d2 value is 0 and its type is <class 'int'>\n"
          ]
        }
      ]
    },
    {
      "cell_type": "markdown",
      "source": [
        "2. ' ** ' & '^'\n",
        "\n",
        "\n",
        "*   ' ** ' is used as exponential operator used to find base raised to the power value\n",
        "*   '^' is used as bitwise XOR operator\n",
        "\n"
      ],
      "metadata": {
        "id": "_IXqJxmlH9-4"
      }
    },
    {
      "cell_type": "code",
      "source": [
        "n1 = 2\n",
        "n2 = 4\n",
        "# Exponential opertor '**'\n",
        "a1 = n1**n2\n",
        "print(f'The value of {n1} raised to the power {n2} is {a1}')\n",
        "\n",
        "# Bitwise operator '^'\n",
        "print(f'Bitwise of {n1} is {bin(n1)}')\n",
        "print(f'Bitwise of {n2} is {bin(n2)}')\n",
        "a2 = n1^n2\n",
        "print(f'The value of {n1} XOR {n2} is {a2}')\n",
        "print(f'Bitwise of {a2} is {bin(a2)}')"
      ],
      "metadata": {
        "colab": {
          "base_uri": "https://localhost:8080/"
        },
        "id": "eaSpjMh1JMqY",
        "outputId": "2b5f84b4-486c-4039-c0da-b83c2852ab60"
      },
      "execution_count": null,
      "outputs": [
        {
          "output_type": "stream",
          "name": "stdout",
          "text": [
            "The value of 2 raised to the power 4 is 16\n",
            "Bitwise of 2 is 0b10\n",
            "Bitwise of 4 is 0b100\n",
            "The value of 2 XOR 4 is 6\n",
            "Bitwise of 6 is 0b110\n"
          ]
        }
      ]
    },
    {
      "cell_type": "markdown",
      "source": [
        "**Q.3. List the logical operators.**"
      ],
      "metadata": {
        "id": "Zd53-k0SHx75"
      }
    },
    {
      "cell_type": "markdown",
      "source": [
        "The logical operators are:\n",
        "\n",
        "\n",
        "1.   **and:** 'and' returns True if both the operands are True, else it will return False\n",
        "2.   **or:** 'or' returns True if either of the operand is True, else will return False\n",
        "3. **not:** 'not' will return inverse of the operand. If operand has True, not will return False and vice versa"
      ],
      "metadata": {
        "id": "EM8Qtoe_H4eJ"
      }
    },
    {
      "cell_type": "markdown",
      "source": [
        "**Q.4. Explain right shift operator and left shift operator with examples.**"
      ],
      "metadata": {
        "id": "AfWFXTTuH6Ij"
      }
    },
    {
      "cell_type": "markdown",
      "source": [
        "\n",
        "\n",
        "1.   Right shift operator (>>):\n",
        "\n",
        "\n",
        "*   This shifts the bit (0, 1) to the right and fills the remaining position with 0 if its a positive number, with 1 if its a negative number"
      ],
      "metadata": {
        "id": "tyw_f-7vNP5n"
      }
    },
    {
      "cell_type": "code",
      "source": [
        "num1 = 7\n",
        "print(f'The binary code of number {num1} is {bin(num1)}')\n",
        "num2 = num1 >> 2\n",
        "print(f'After right shift the number is {num2} and its binary code is {bin(num2)}')"
      ],
      "metadata": {
        "colab": {
          "base_uri": "https://localhost:8080/"
        },
        "id": "7C27hrIsg9bP",
        "outputId": "36cab528-28d3-41e0-abd4-4aa7a22ec804"
      },
      "execution_count": 5,
      "outputs": [
        {
          "output_type": "stream",
          "name": "stdout",
          "text": [
            "The binary code of number 7 is 0b111\n",
            "After right shift the number is 1 and its binary code is 0b1\n"
          ]
        }
      ]
    },
    {
      "cell_type": "markdown",
      "source": [
        "For the above code the binary code of 7 in terms of 8-bits is 0000 0111\n",
        "\n",
        "Here right shift operation is done by 2. For the first right shift the last number (1) is removed and first position is filled with 0. Hence it becomes 0000 0011.\n",
        "\n",
        "For the second right shift again the last number from 0000 0011 is removed that is 1 and first position is filled with 0. Hence it becomes 0000 0001, which is the binary representation of decimal number 1"
      ],
      "metadata": {
        "id": "tEyZYEEYjo65"
      }
    },
    {
      "cell_type": "markdown",
      "source": [
        "2.   Left shift operator (<<):\n",
        "\n",
        "\n",
        "*   This shifts the bit (0, 1) to the left and fills the remaining position with 0 for both positive number and negative number"
      ],
      "metadata": {
        "id": "-Z5Ffm1ilFGq"
      }
    },
    {
      "cell_type": "code",
      "source": [
        "num1 = 7\n",
        "print(f'The binary code of number {num1} is {bin(num1)}')\n",
        "num2 = num1 << 2\n",
        "print(f'After left shift the number is {num2} and its binary code is {bin(num2)}')"
      ],
      "metadata": {
        "colab": {
          "base_uri": "https://localhost:8080/"
        },
        "id": "5exg239VmDQL",
        "outputId": "28fe7746-811a-4d95-fda2-b0153a5fe995"
      },
      "execution_count": 6,
      "outputs": [
        {
          "output_type": "stream",
          "name": "stdout",
          "text": [
            "The binary code of number 7 is 0b111\n",
            "After left shift the number is 28 and its binary code is 0b11100\n"
          ]
        }
      ]
    },
    {
      "cell_type": "markdown",
      "source": [
        "For the above code the binary code of 7 in terms of 8-bits is 0000 0111\n",
        "\n",
        "Here left shift operation is done by 2. For the first left shift all the bits move to the left and the last number is filled with 0. Hence it becomes 0000 1110.\n",
        "\n",
        "For the second left shift again all the bits from 0000 1110 is moved to the left and last position is filled with 0. Hence it becomes 0001 1100, which is the binary representation of decimal number 28"
      ],
      "metadata": {
        "id": "VEmMV0-9mvT7"
      }
    },
    {
      "cell_type": "markdown",
      "source": [
        "**Q.5. Create a list containing int type data of length 15. Then write a code to check if 10 is present in the list or not** "
      ],
      "metadata": {
        "id": "4nyyfgemNQ42"
      }
    },
    {
      "cell_type": "code",
      "source": [
        "list_int = [1, 2, 3, 4, 5, 6, 7, 8, 9, 10, 11, 12, 13, 14, 15]\n",
        "n = len(list_int)\n",
        "print(f'Length of the list is {n}')\n",
        "\n",
        "if 10 in list_int:\n",
        "  print(\"10 is present in given list\")\n",
        "else:\n",
        "  print(\"10 is not present in given list\")"
      ],
      "metadata": {
        "colab": {
          "base_uri": "https://localhost:8080/"
        },
        "id": "yeeS1CtuNdai",
        "outputId": "ec14f150-3b0f-424f-94ee-fc7fbec43a0e"
      },
      "execution_count": null,
      "outputs": [
        {
          "output_type": "stream",
          "name": "stdout",
          "text": [
            "Length of the list is 15\n",
            "10 is present in given list\n"
          ]
        }
      ]
    },
    {
      "cell_type": "code",
      "source": [],
      "metadata": {
        "id": "JY1A99I_NvsW"
      },
      "execution_count": null,
      "outputs": []
    }
  ]
}